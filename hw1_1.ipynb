{
  "cells": [
    {
      "cell_type": "code",
      "execution_count": 13,
      "metadata": {
        "id": "jwJ0FlXA8gwl"
      },
      "outputs": [],
      "source": [
        "import numpy as np\n",
        "from tensorflow import keras\n",
        "from sklearn.datasets import load_iris\n",
        "from sklearn.model_selection import train_test_split\n",
        "from keras.models import Sequential\n",
        "from keras.layers import Dense, Dropout\n",
        "from tensorflow.keras.optimizers import Adam"
      ]
    },
    {
      "cell_type": "markdown",
      "metadata": {
        "id": "h023LDVN8gwo"
      },
      "source": [
        "\n",
        "https://archive.ics.uci.edu/ml/datasets/iris\n",
        "\n",
        "Attribute Information:\n",
        "\n",
        "1. sepal length in cm\n",
        "2. sepal width in cm\n",
        "3. petal length in cm\n",
        "4. petal width in cm\n",
        "\n",
        "class:\n",
        "\n",
        "    Iris Setosa\n",
        "    Iris Versicolour\n",
        "    Iris Virginica\n"
      ]
    },
    {
      "cell_type": "code",
      "execution_count": 14,
      "metadata": {
        "id": "8NGT6xhS8gwp"
      },
      "outputs": [],
      "source": [
        "iris_data = load_iris() # load the iris dataset\n",
        "x = iris_data.data\n",
        "y = iris_data.target.reshape(-1, 1) # Convert data to a single column"
      ]
    },
    {
      "cell_type": "markdown",
      "metadata": {
        "id": "vYrQsOaP8gwq"
      },
      "source": [
        "# <div style=\"direction:rtl;text-align:right;font-family:B Lotus, B Nazanin, Tahoma\">سوال 1:</div>\n",
        "<div style=\"direction:rtl;text-align:right;font-family:Tahoma\">\n",
        "برچسب یا label های ما در حال حاضر عددی است.\n",
        "<br>\n",
        "این اعداد 0 تا 2 هستند و به عبارتی 3 حالت مختلف دارند.\n",
        "<br>\n",
        "این برچسب ها را به فرمت one-hot تبدیل کنید و خروجی را مجدد در y بریزید."
      ]
    },
    {
      "cell_type": "code",
      "execution_count": 15,
      "metadata": {
        "id": "I6wQzRF68gwr"
      },
      "outputs": [],
      "source": [
        "y = keras.utils.to_categorical(y, num_classes=3)"
      ]
    },
    {
      "cell_type": "code",
      "source": [
        "y[0:5]"
      ],
      "metadata": {
        "id": "uIfVng5i85z5",
        "outputId": "4729ad07-55f2-4dc8-d9fa-27bb41681148",
        "colab": {
          "base_uri": "https://localhost:8080/"
        }
      },
      "execution_count": 16,
      "outputs": [
        {
          "output_type": "execute_result",
          "data": {
            "text/plain": [
              "array([[1., 0., 0.],\n",
              "       [1., 0., 0.],\n",
              "       [1., 0., 0.],\n",
              "       [1., 0., 0.],\n",
              "       [1., 0., 0.]], dtype=float32)"
            ]
          },
          "metadata": {},
          "execution_count": 16
        }
      ]
    },
    {
      "cell_type": "code",
      "execution_count": 17,
      "metadata": {
        "id": "CH9iQKX48gws"
      },
      "outputs": [],
      "source": [
        "# Split the data for training and testing\n",
        "train_x, test_x, train_y, test_y = train_test_split(x, y, test_size=0.20)"
      ]
    },
    {
      "cell_type": "code",
      "source": [
        "train_x.shape"
      ],
      "metadata": {
        "id": "JzXkrQ4K9tx4",
        "outputId": "e4b3a3bc-3c32-4853-d97c-b4806f7db6b9",
        "colab": {
          "base_uri": "https://localhost:8080/"
        }
      },
      "execution_count": 18,
      "outputs": [
        {
          "output_type": "execute_result",
          "data": {
            "text/plain": [
              "(120, 4)"
            ]
          },
          "metadata": {},
          "execution_count": 18
        }
      ]
    },
    {
      "cell_type": "markdown",
      "metadata": {
        "id": "adjt9C4w8gwt"
      },
      "source": [
        "# <div style=\"direction:rtl;text-align:right;font-family:B Lotus, B Nazanin, Tahoma\">سوال 2:</div>\n",
        "<div style=\"direction:rtl;text-align:right;font-family:Tahoma\">\n",
        "یک شبکه با دو hidden-layer در هر لایه 10 نوران و تابع فعالیت relu بسازید. یک لایه Dropout با نرخ 0.5 در لایه آخر ماقبل softmax نیز اضافه کنید.\n",
        "</div>"
      ]
    },
    {
      "cell_type": "code",
      "execution_count": 19,
      "metadata": {
        "id": "U_Qix-cD8gwt"
      },
      "outputs": [],
      "source": [
        "# Build the model\n",
        "model = Sequential()\n",
        "model.add(Dense(10, activation='relu', input_dim=(4))) # input_dim = 4, because we have 3 features\n",
        "model.add(Dense(10, activation='relu'))  \n",
        "model.add(Dropout(0.5))\n",
        "model.add(Dense(3, activation='softmax'))"
      ]
    },
    {
      "cell_type": "code",
      "source": [
        "model.summary()"
      ],
      "metadata": {
        "id": "gHe71UVv-Pet",
        "outputId": "d1f6d136-4d11-42a8-af19-718abfcd0a96",
        "colab": {
          "base_uri": "https://localhost:8080/"
        }
      },
      "execution_count": 20,
      "outputs": [
        {
          "output_type": "stream",
          "name": "stdout",
          "text": [
            "Model: \"sequential_1\"\n",
            "_________________________________________________________________\n",
            " Layer (type)                Output Shape              Param #   \n",
            "=================================================================\n",
            " dense_3 (Dense)             (None, 10)                50        \n",
            "                                                                 \n",
            " dense_4 (Dense)             (None, 10)                110       \n",
            "                                                                 \n",
            " dropout_1 (Dropout)         (None, 10)                0         \n",
            "                                                                 \n",
            " dense_5 (Dense)             (None, 3)                 33        \n",
            "                                                                 \n",
            "=================================================================\n",
            "Total params: 193\n",
            "Trainable params: 193\n",
            "Non-trainable params: 0\n",
            "_________________________________________________________________\n"
          ]
        }
      ]
    },
    {
      "cell_type": "code",
      "execution_count": 21,
      "metadata": {
        "id": "ccZIa_L28gwv"
      },
      "outputs": [],
      "source": [
        "# Adam optimizer with learning rate of 0.001\n",
        "optimizer = Adam(learning_rate=0.001)\n",
        "model.compile(optimizer, loss='categorical_crossentropy', metrics=['accuracy'])"
      ]
    },
    {
      "cell_type": "markdown",
      "metadata": {
        "id": "eiuVoT-E8gwv"
      },
      "source": [
        "# <div style=\"direction:rtl;text-align:right;font-family:B Lotus, B Nazanin, Tahoma\">سوال 3:</div>\n",
        "<div style=\"direction:rtl;text-align:right;font-family:Tahoma\">\n",
        "مدل را با  batch_size=5 و تعداد 200 ایپاک آموزش دهید.\n",
        "<br>\n",
        "<b>راهنمایی: </b>\n",
        "از تابع model.fit استفاده کنید.\n",
        "</div>"
      ]
    },
    {
      "cell_type": "code",
      "execution_count": 22,
      "metadata": {
        "id": "pwIVekSr8gww",
        "outputId": "a99c2a39-b736-4bf0-eb5d-6f3c5eb32dec",
        "colab": {
          "base_uri": "https://localhost:8080/"
        }
      },
      "outputs": [
        {
          "output_type": "stream",
          "name": "stdout",
          "text": [
            "Epoch 1/200\n",
            "24/24 [==============================] - 0s 2ms/step - loss: 1.6457 - accuracy: 0.3583\n",
            "Epoch 2/200\n",
            "24/24 [==============================] - 0s 1ms/step - loss: 1.3684 - accuracy: 0.3500\n",
            "Epoch 3/200\n",
            "24/24 [==============================] - 0s 2ms/step - loss: 1.3106 - accuracy: 0.4333\n",
            "Epoch 4/200\n",
            "24/24 [==============================] - 0s 2ms/step - loss: 1.1637 - accuracy: 0.4750\n",
            "Epoch 5/200\n",
            "24/24 [==============================] - 0s 2ms/step - loss: 1.1534 - accuracy: 0.3750\n",
            "Epoch 6/200\n",
            "24/24 [==============================] - 0s 1ms/step - loss: 1.0339 - accuracy: 0.4417\n",
            "Epoch 7/200\n",
            "24/24 [==============================] - 0s 1ms/step - loss: 1.0281 - accuracy: 0.4000\n",
            "Epoch 8/200\n",
            "24/24 [==============================] - 0s 1ms/step - loss: 0.9369 - accuracy: 0.4583\n",
            "Epoch 9/200\n",
            "24/24 [==============================] - 0s 2ms/step - loss: 0.9337 - accuracy: 0.4500\n",
            "Epoch 10/200\n",
            "24/24 [==============================] - 0s 2ms/step - loss: 0.9073 - accuracy: 0.5583\n",
            "Epoch 11/200\n",
            "24/24 [==============================] - 0s 1ms/step - loss: 0.8488 - accuracy: 0.5917\n",
            "Epoch 12/200\n",
            "24/24 [==============================] - 0s 1ms/step - loss: 0.8321 - accuracy: 0.6083\n",
            "Epoch 13/200\n",
            "24/24 [==============================] - 0s 2ms/step - loss: 0.8101 - accuracy: 0.5917\n",
            "Epoch 14/200\n",
            "24/24 [==============================] - 0s 2ms/step - loss: 0.7657 - accuracy: 0.6417\n",
            "Epoch 15/200\n",
            "24/24 [==============================] - 0s 2ms/step - loss: 0.7688 - accuracy: 0.6000\n",
            "Epoch 16/200\n",
            "24/24 [==============================] - 0s 1ms/step - loss: 0.7807 - accuracy: 0.5667\n",
            "Epoch 17/200\n",
            "24/24 [==============================] - 0s 1ms/step - loss: 0.7804 - accuracy: 0.6500\n",
            "Epoch 18/200\n",
            "24/24 [==============================] - 0s 1ms/step - loss: 0.7225 - accuracy: 0.6583\n",
            "Epoch 19/200\n",
            "24/24 [==============================] - 0s 1ms/step - loss: 0.7778 - accuracy: 0.6917\n",
            "Epoch 20/200\n",
            "24/24 [==============================] - 0s 1ms/step - loss: 0.7171 - accuracy: 0.6917\n",
            "Epoch 21/200\n",
            "24/24 [==============================] - 0s 2ms/step - loss: 0.7207 - accuracy: 0.7000\n",
            "Epoch 22/200\n",
            "24/24 [==============================] - 0s 2ms/step - loss: 0.6748 - accuracy: 0.7583\n",
            "Epoch 23/200\n",
            "24/24 [==============================] - 0s 1ms/step - loss: 0.7199 - accuracy: 0.7167\n",
            "Epoch 24/200\n",
            "24/24 [==============================] - 0s 2ms/step - loss: 0.6563 - accuracy: 0.7750\n",
            "Epoch 25/200\n",
            "24/24 [==============================] - 0s 1ms/step - loss: 0.6937 - accuracy: 0.6500\n",
            "Epoch 26/200\n",
            "24/24 [==============================] - 0s 1ms/step - loss: 0.6927 - accuracy: 0.7083\n",
            "Epoch 27/200\n",
            "24/24 [==============================] - 0s 2ms/step - loss: 0.6273 - accuracy: 0.7167\n",
            "Epoch 28/200\n",
            "24/24 [==============================] - 0s 1ms/step - loss: 0.7162 - accuracy: 0.6833\n",
            "Epoch 29/200\n",
            "24/24 [==============================] - 0s 1ms/step - loss: 0.6725 - accuracy: 0.6500\n",
            "Epoch 30/200\n",
            "24/24 [==============================] - 0s 1ms/step - loss: 0.6318 - accuracy: 0.7583\n",
            "Epoch 31/200\n",
            "24/24 [==============================] - 0s 2ms/step - loss: 0.6914 - accuracy: 0.6583\n",
            "Epoch 32/200\n",
            "24/24 [==============================] - 0s 2ms/step - loss: 0.6890 - accuracy: 0.6083\n",
            "Epoch 33/200\n",
            "24/24 [==============================] - 0s 1ms/step - loss: 0.6264 - accuracy: 0.7417\n",
            "Epoch 34/200\n",
            "24/24 [==============================] - 0s 2ms/step - loss: 0.6334 - accuracy: 0.6750\n",
            "Epoch 35/200\n",
            "24/24 [==============================] - 0s 2ms/step - loss: 0.6712 - accuracy: 0.6083\n",
            "Epoch 36/200\n",
            "24/24 [==============================] - 0s 2ms/step - loss: 0.6230 - accuracy: 0.6750\n",
            "Epoch 37/200\n",
            "24/24 [==============================] - 0s 2ms/step - loss: 0.6527 - accuracy: 0.6667\n",
            "Epoch 38/200\n",
            "24/24 [==============================] - 0s 2ms/step - loss: 0.6664 - accuracy: 0.6417\n",
            "Epoch 39/200\n",
            "24/24 [==============================] - 0s 1ms/step - loss: 0.6165 - accuracy: 0.7167\n",
            "Epoch 40/200\n",
            "24/24 [==============================] - 0s 1ms/step - loss: 0.6155 - accuracy: 0.7083\n",
            "Epoch 41/200\n",
            "24/24 [==============================] - 0s 1ms/step - loss: 0.5934 - accuracy: 0.7250\n",
            "Epoch 42/200\n",
            "24/24 [==============================] - 0s 1ms/step - loss: 0.6055 - accuracy: 0.7333\n",
            "Epoch 43/200\n",
            "24/24 [==============================] - 0s 2ms/step - loss: 0.6272 - accuracy: 0.6667\n",
            "Epoch 44/200\n",
            "24/24 [==============================] - 0s 1ms/step - loss: 0.5689 - accuracy: 0.7250\n",
            "Epoch 45/200\n",
            "24/24 [==============================] - 0s 1ms/step - loss: 0.5824 - accuracy: 0.7583\n",
            "Epoch 46/200\n",
            "24/24 [==============================] - 0s 1ms/step - loss: 0.5884 - accuracy: 0.7167\n",
            "Epoch 47/200\n",
            "24/24 [==============================] - 0s 1ms/step - loss: 0.6120 - accuracy: 0.7250\n",
            "Epoch 48/200\n",
            "24/24 [==============================] - 0s 2ms/step - loss: 0.5538 - accuracy: 0.7167\n",
            "Epoch 49/200\n",
            "24/24 [==============================] - 0s 2ms/step - loss: 0.5384 - accuracy: 0.7750\n",
            "Epoch 50/200\n",
            "24/24 [==============================] - 0s 1ms/step - loss: 0.6100 - accuracy: 0.6917\n",
            "Epoch 51/200\n",
            "24/24 [==============================] - 0s 2ms/step - loss: 0.5451 - accuracy: 0.6667\n",
            "Epoch 52/200\n",
            "24/24 [==============================] - 0s 2ms/step - loss: 0.5203 - accuracy: 0.7917\n",
            "Epoch 53/200\n",
            "24/24 [==============================] - 0s 2ms/step - loss: 0.5313 - accuracy: 0.7250\n",
            "Epoch 54/200\n",
            "24/24 [==============================] - 0s 2ms/step - loss: 0.5539 - accuracy: 0.7417\n",
            "Epoch 55/200\n",
            "24/24 [==============================] - 0s 1ms/step - loss: 0.5992 - accuracy: 0.6667\n",
            "Epoch 56/200\n",
            "24/24 [==============================] - 0s 1ms/step - loss: 0.5909 - accuracy: 0.6500\n",
            "Epoch 57/200\n",
            "24/24 [==============================] - 0s 2ms/step - loss: 0.5902 - accuracy: 0.7083\n",
            "Epoch 58/200\n",
            "24/24 [==============================] - 0s 2ms/step - loss: 0.5646 - accuracy: 0.7083\n",
            "Epoch 59/200\n",
            "24/24 [==============================] - 0s 2ms/step - loss: 0.5547 - accuracy: 0.7583\n",
            "Epoch 60/200\n",
            "24/24 [==============================] - 0s 1ms/step - loss: 0.5176 - accuracy: 0.7833\n",
            "Epoch 61/200\n",
            "24/24 [==============================] - 0s 1ms/step - loss: 0.5071 - accuracy: 0.8000\n",
            "Epoch 62/200\n",
            "24/24 [==============================] - 0s 1ms/step - loss: 0.5536 - accuracy: 0.7167\n",
            "Epoch 63/200\n",
            "24/24 [==============================] - 0s 2ms/step - loss: 0.5842 - accuracy: 0.7500\n",
            "Epoch 64/200\n",
            "24/24 [==============================] - 0s 2ms/step - loss: 0.5645 - accuracy: 0.7333\n",
            "Epoch 65/200\n",
            "24/24 [==============================] - 0s 1ms/step - loss: 0.5654 - accuracy: 0.7167\n",
            "Epoch 66/200\n",
            "24/24 [==============================] - 0s 1ms/step - loss: 0.5315 - accuracy: 0.7833\n",
            "Epoch 67/200\n",
            "24/24 [==============================] - 0s 1ms/step - loss: 0.5130 - accuracy: 0.8000\n",
            "Epoch 68/200\n",
            "24/24 [==============================] - 0s 1ms/step - loss: 0.6102 - accuracy: 0.7250\n",
            "Epoch 69/200\n",
            "24/24 [==============================] - 0s 2ms/step - loss: 0.5287 - accuracy: 0.7833\n",
            "Epoch 70/200\n",
            "24/24 [==============================] - 0s 2ms/step - loss: 0.5501 - accuracy: 0.7667\n",
            "Epoch 71/200\n",
            "24/24 [==============================] - 0s 1ms/step - loss: 0.5588 - accuracy: 0.7667\n",
            "Epoch 72/200\n",
            "24/24 [==============================] - 0s 2ms/step - loss: 0.4913 - accuracy: 0.8000\n",
            "Epoch 73/200\n",
            "24/24 [==============================] - 0s 2ms/step - loss: 0.5350 - accuracy: 0.7500\n",
            "Epoch 74/200\n",
            "24/24 [==============================] - 0s 1ms/step - loss: 0.5127 - accuracy: 0.8083\n",
            "Epoch 75/200\n",
            "24/24 [==============================] - 0s 1ms/step - loss: 0.5117 - accuracy: 0.7333\n",
            "Epoch 76/200\n",
            "24/24 [==============================] - 0s 1ms/step - loss: 0.5138 - accuracy: 0.8083\n",
            "Epoch 77/200\n",
            "24/24 [==============================] - 0s 1ms/step - loss: 0.5503 - accuracy: 0.7250\n",
            "Epoch 78/200\n",
            "24/24 [==============================] - 0s 2ms/step - loss: 0.5245 - accuracy: 0.7417\n",
            "Epoch 79/200\n",
            "24/24 [==============================] - 0s 2ms/step - loss: 0.4734 - accuracy: 0.8083\n",
            "Epoch 80/200\n",
            "24/24 [==============================] - 0s 1ms/step - loss: 0.4820 - accuracy: 0.8167\n",
            "Epoch 81/200\n",
            "24/24 [==============================] - 0s 1ms/step - loss: 0.5262 - accuracy: 0.7667\n",
            "Epoch 82/200\n",
            "24/24 [==============================] - 0s 2ms/step - loss: 0.5218 - accuracy: 0.7500\n",
            "Epoch 83/200\n",
            "24/24 [==============================] - 0s 1ms/step - loss: 0.4620 - accuracy: 0.8000\n",
            "Epoch 84/200\n",
            "24/24 [==============================] - 0s 2ms/step - loss: 0.4886 - accuracy: 0.7833\n",
            "Epoch 85/200\n",
            "24/24 [==============================] - 0s 1ms/step - loss: 0.4616 - accuracy: 0.7917\n",
            "Epoch 86/200\n",
            "24/24 [==============================] - 0s 1ms/step - loss: 0.5900 - accuracy: 0.7333\n",
            "Epoch 87/200\n",
            "24/24 [==============================] - 0s 1ms/step - loss: 0.4717 - accuracy: 0.7917\n",
            "Epoch 88/200\n",
            "24/24 [==============================] - 0s 1ms/step - loss: 0.5249 - accuracy: 0.7750\n",
            "Epoch 89/200\n",
            "24/24 [==============================] - 0s 1ms/step - loss: 0.5722 - accuracy: 0.6833\n",
            "Epoch 90/200\n",
            "24/24 [==============================] - 0s 1ms/step - loss: 0.5221 - accuracy: 0.7417\n",
            "Epoch 91/200\n",
            "24/24 [==============================] - 0s 2ms/step - loss: 0.4674 - accuracy: 0.7833\n",
            "Epoch 92/200\n",
            "24/24 [==============================] - 0s 2ms/step - loss: 0.5269 - accuracy: 0.7500\n",
            "Epoch 93/200\n",
            "24/24 [==============================] - 0s 1ms/step - loss: 0.5238 - accuracy: 0.7750\n",
            "Epoch 94/200\n",
            "24/24 [==============================] - 0s 1ms/step - loss: 0.4745 - accuracy: 0.8083\n",
            "Epoch 95/200\n",
            "24/24 [==============================] - 0s 1ms/step - loss: 0.5988 - accuracy: 0.7083\n",
            "Epoch 96/200\n",
            "24/24 [==============================] - 0s 1ms/step - loss: 0.5541 - accuracy: 0.7583\n",
            "Epoch 97/200\n",
            "24/24 [==============================] - 0s 2ms/step - loss: 0.5462 - accuracy: 0.7167\n",
            "Epoch 98/200\n",
            "24/24 [==============================] - 0s 1ms/step - loss: 0.5375 - accuracy: 0.7417\n",
            "Epoch 99/200\n",
            "24/24 [==============================] - 0s 2ms/step - loss: 0.4759 - accuracy: 0.7417\n",
            "Epoch 100/200\n",
            "24/24 [==============================] - 0s 1ms/step - loss: 0.3875 - accuracy: 0.8417\n",
            "Epoch 101/200\n",
            "24/24 [==============================] - 0s 1ms/step - loss: 0.4675 - accuracy: 0.7500\n",
            "Epoch 102/200\n",
            "24/24 [==============================] - 0s 1ms/step - loss: 0.4386 - accuracy: 0.7250\n",
            "Epoch 103/200\n",
            "24/24 [==============================] - 0s 2ms/step - loss: 0.4647 - accuracy: 0.7750\n",
            "Epoch 104/200\n",
            "24/24 [==============================] - 0s 1ms/step - loss: 0.4979 - accuracy: 0.7083\n",
            "Epoch 105/200\n",
            "24/24 [==============================] - 0s 2ms/step - loss: 0.4466 - accuracy: 0.7750\n",
            "Epoch 106/200\n",
            "24/24 [==============================] - 0s 2ms/step - loss: 0.4025 - accuracy: 0.8083\n",
            "Epoch 107/200\n",
            "24/24 [==============================] - 0s 2ms/step - loss: 0.4024 - accuracy: 0.7417\n",
            "Epoch 108/200\n",
            "24/24 [==============================] - 0s 1ms/step - loss: 0.4875 - accuracy: 0.7333\n",
            "Epoch 109/200\n",
            "24/24 [==============================] - 0s 1ms/step - loss: 0.4474 - accuracy: 0.7000\n",
            "Epoch 110/200\n",
            "24/24 [==============================] - 0s 1ms/step - loss: 0.4373 - accuracy: 0.7500\n",
            "Epoch 111/200\n",
            "24/24 [==============================] - 0s 2ms/step - loss: 0.3657 - accuracy: 0.8167\n",
            "Epoch 112/200\n",
            "24/24 [==============================] - 0s 1ms/step - loss: 0.3796 - accuracy: 0.8000\n",
            "Epoch 113/200\n",
            "24/24 [==============================] - 0s 2ms/step - loss: 0.4173 - accuracy: 0.7750\n",
            "Epoch 114/200\n",
            "24/24 [==============================] - 0s 2ms/step - loss: 0.4355 - accuracy: 0.7833\n",
            "Epoch 115/200\n",
            "24/24 [==============================] - 0s 2ms/step - loss: 0.4169 - accuracy: 0.7500\n",
            "Epoch 116/200\n",
            "24/24 [==============================] - 0s 2ms/step - loss: 0.4563 - accuracy: 0.7667\n",
            "Epoch 117/200\n",
            "24/24 [==============================] - 0s 2ms/step - loss: 0.4456 - accuracy: 0.7167\n",
            "Epoch 118/200\n",
            "24/24 [==============================] - 0s 1ms/step - loss: 0.3685 - accuracy: 0.8417\n",
            "Epoch 119/200\n",
            "24/24 [==============================] - 0s 2ms/step - loss: 0.4087 - accuracy: 0.8333\n",
            "Epoch 120/200\n",
            "24/24 [==============================] - 0s 1ms/step - loss: 0.4574 - accuracy: 0.7667\n",
            "Epoch 121/200\n",
            "24/24 [==============================] - 0s 1ms/step - loss: 0.4102 - accuracy: 0.8000\n",
            "Epoch 122/200\n",
            "24/24 [==============================] - 0s 1ms/step - loss: 0.4229 - accuracy: 0.7833\n",
            "Epoch 123/200\n",
            "24/24 [==============================] - 0s 1ms/step - loss: 0.4356 - accuracy: 0.7500\n",
            "Epoch 124/200\n",
            "24/24 [==============================] - 0s 1ms/step - loss: 0.4431 - accuracy: 0.7250\n",
            "Epoch 125/200\n",
            "24/24 [==============================] - 0s 1ms/step - loss: 0.4325 - accuracy: 0.8250\n",
            "Epoch 126/200\n",
            "24/24 [==============================] - 0s 2ms/step - loss: 0.4555 - accuracy: 0.7500\n",
            "Epoch 127/200\n",
            "24/24 [==============================] - 0s 1ms/step - loss: 0.4760 - accuracy: 0.7333\n",
            "Epoch 128/200\n",
            "24/24 [==============================] - 0s 2ms/step - loss: 0.4334 - accuracy: 0.7333\n",
            "Epoch 129/200\n",
            "24/24 [==============================] - 0s 2ms/step - loss: 0.4122 - accuracy: 0.7333\n",
            "Epoch 130/200\n",
            "24/24 [==============================] - 0s 2ms/step - loss: 0.4375 - accuracy: 0.8083\n",
            "Epoch 131/200\n",
            "24/24 [==============================] - 0s 1ms/step - loss: 0.5368 - accuracy: 0.7833\n",
            "Epoch 132/200\n",
            "24/24 [==============================] - 0s 1ms/step - loss: 0.4557 - accuracy: 0.7750\n",
            "Epoch 133/200\n",
            "24/24 [==============================] - 0s 1ms/step - loss: 0.3983 - accuracy: 0.8000\n",
            "Epoch 134/200\n",
            "24/24 [==============================] - 0s 1ms/step - loss: 0.4945 - accuracy: 0.7333\n",
            "Epoch 135/200\n",
            "24/24 [==============================] - 0s 1ms/step - loss: 0.3579 - accuracy: 0.8250\n",
            "Epoch 136/200\n",
            "24/24 [==============================] - 0s 1ms/step - loss: 0.4505 - accuracy: 0.7583\n",
            "Epoch 137/200\n",
            "24/24 [==============================] - 0s 1ms/step - loss: 0.4134 - accuracy: 0.8333\n",
            "Epoch 138/200\n",
            "24/24 [==============================] - 0s 1ms/step - loss: 0.3569 - accuracy: 0.8250\n",
            "Epoch 139/200\n",
            "24/24 [==============================] - 0s 2ms/step - loss: 0.4161 - accuracy: 0.7667\n",
            "Epoch 140/200\n",
            "24/24 [==============================] - 0s 1ms/step - loss: 0.4286 - accuracy: 0.8000\n",
            "Epoch 141/200\n",
            "24/24 [==============================] - 0s 2ms/step - loss: 0.3941 - accuracy: 0.8000\n",
            "Epoch 142/200\n",
            "24/24 [==============================] - 0s 1ms/step - loss: 0.3416 - accuracy: 0.8417\n",
            "Epoch 143/200\n",
            "24/24 [==============================] - 0s 1ms/step - loss: 0.3920 - accuracy: 0.7833\n",
            "Epoch 144/200\n",
            "24/24 [==============================] - 0s 1ms/step - loss: 0.3833 - accuracy: 0.8417\n",
            "Epoch 145/200\n",
            "24/24 [==============================] - 0s 1ms/step - loss: 0.4750 - accuracy: 0.7583\n",
            "Epoch 146/200\n",
            "24/24 [==============================] - 0s 1ms/step - loss: 0.5072 - accuracy: 0.6833\n",
            "Epoch 147/200\n",
            "24/24 [==============================] - 0s 2ms/step - loss: 0.4673 - accuracy: 0.7417\n",
            "Epoch 148/200\n",
            "24/24 [==============================] - 0s 2ms/step - loss: 0.3774 - accuracy: 0.8583\n",
            "Epoch 149/200\n",
            "24/24 [==============================] - 0s 1ms/step - loss: 0.3902 - accuracy: 0.7750\n",
            "Epoch 150/200\n",
            "24/24 [==============================] - 0s 2ms/step - loss: 0.4449 - accuracy: 0.7750\n",
            "Epoch 151/200\n",
            "24/24 [==============================] - 0s 1ms/step - loss: 0.3779 - accuracy: 0.7750\n",
            "Epoch 152/200\n",
            "24/24 [==============================] - 0s 1ms/step - loss: 0.5006 - accuracy: 0.7333\n",
            "Epoch 153/200\n",
            "24/24 [==============================] - 0s 2ms/step - loss: 0.3609 - accuracy: 0.7833\n",
            "Epoch 154/200\n",
            "24/24 [==============================] - 0s 2ms/step - loss: 0.4084 - accuracy: 0.8083\n",
            "Epoch 155/200\n",
            "24/24 [==============================] - 0s 2ms/step - loss: 0.4801 - accuracy: 0.7833\n",
            "Epoch 156/200\n",
            "24/24 [==============================] - 0s 2ms/step - loss: 0.3388 - accuracy: 0.8417\n",
            "Epoch 157/200\n",
            "24/24 [==============================] - 0s 2ms/step - loss: 0.3639 - accuracy: 0.8167\n",
            "Epoch 158/200\n",
            "24/24 [==============================] - 0s 2ms/step - loss: 0.4209 - accuracy: 0.7417\n",
            "Epoch 159/200\n",
            "24/24 [==============================] - 0s 2ms/step - loss: 0.3866 - accuracy: 0.8083\n",
            "Epoch 160/200\n",
            "24/24 [==============================] - 0s 2ms/step - loss: 0.3286 - accuracy: 0.8667\n",
            "Epoch 161/200\n",
            "24/24 [==============================] - 0s 2ms/step - loss: 0.3687 - accuracy: 0.7833\n",
            "Epoch 162/200\n",
            "24/24 [==============================] - 0s 2ms/step - loss: 0.3802 - accuracy: 0.8333\n",
            "Epoch 163/200\n",
            "24/24 [==============================] - 0s 2ms/step - loss: 0.3838 - accuracy: 0.8000\n",
            "Epoch 164/200\n",
            "24/24 [==============================] - 0s 1ms/step - loss: 0.3562 - accuracy: 0.8417\n",
            "Epoch 165/200\n",
            "24/24 [==============================] - 0s 2ms/step - loss: 0.3426 - accuracy: 0.7917\n",
            "Epoch 166/200\n",
            "24/24 [==============================] - 0s 2ms/step - loss: 0.3754 - accuracy: 0.7833\n",
            "Epoch 167/200\n",
            "24/24 [==============================] - 0s 2ms/step - loss: 0.4427 - accuracy: 0.8167\n",
            "Epoch 168/200\n",
            "24/24 [==============================] - 0s 2ms/step - loss: 0.4697 - accuracy: 0.7917\n",
            "Epoch 169/200\n",
            "24/24 [==============================] - 0s 2ms/step - loss: 0.4751 - accuracy: 0.7917\n",
            "Epoch 170/200\n",
            "24/24 [==============================] - 0s 2ms/step - loss: 0.4028 - accuracy: 0.8000\n",
            "Epoch 171/200\n",
            "24/24 [==============================] - 0s 2ms/step - loss: 0.3546 - accuracy: 0.8167\n",
            "Epoch 172/200\n",
            "24/24 [==============================] - 0s 2ms/step - loss: 0.3839 - accuracy: 0.8167\n",
            "Epoch 173/200\n",
            "24/24 [==============================] - 0s 2ms/step - loss: 0.3304 - accuracy: 0.8833\n",
            "Epoch 174/200\n",
            "24/24 [==============================] - 0s 1ms/step - loss: 0.3611 - accuracy: 0.7917\n",
            "Epoch 175/200\n",
            "24/24 [==============================] - 0s 2ms/step - loss: 0.4647 - accuracy: 0.7583\n",
            "Epoch 176/200\n",
            "24/24 [==============================] - 0s 2ms/step - loss: 0.4748 - accuracy: 0.7750\n",
            "Epoch 177/200\n",
            "24/24 [==============================] - 0s 2ms/step - loss: 0.4090 - accuracy: 0.8083\n",
            "Epoch 178/200\n",
            "24/24 [==============================] - 0s 1ms/step - loss: 0.3577 - accuracy: 0.8167\n",
            "Epoch 179/200\n",
            "24/24 [==============================] - 0s 2ms/step - loss: 0.5096 - accuracy: 0.7750\n",
            "Epoch 180/200\n",
            "24/24 [==============================] - 0s 1ms/step - loss: 0.3401 - accuracy: 0.8417\n",
            "Epoch 181/200\n",
            "24/24 [==============================] - 0s 2ms/step - loss: 0.4622 - accuracy: 0.8083\n",
            "Epoch 182/200\n",
            "24/24 [==============================] - 0s 1ms/step - loss: 0.4161 - accuracy: 0.8167\n",
            "Epoch 183/200\n",
            "24/24 [==============================] - 0s 1ms/step - loss: 0.3759 - accuracy: 0.8167\n",
            "Epoch 184/200\n",
            "24/24 [==============================] - 0s 2ms/step - loss: 0.3726 - accuracy: 0.8333\n",
            "Epoch 185/200\n",
            "24/24 [==============================] - 0s 1ms/step - loss: 0.3972 - accuracy: 0.8167\n",
            "Epoch 186/200\n",
            "24/24 [==============================] - 0s 2ms/step - loss: 0.4178 - accuracy: 0.8417\n",
            "Epoch 187/200\n",
            "24/24 [==============================] - 0s 2ms/step - loss: 0.2755 - accuracy: 0.8917\n",
            "Epoch 188/200\n",
            "24/24 [==============================] - 0s 2ms/step - loss: 0.4776 - accuracy: 0.8083\n",
            "Epoch 189/200\n",
            "24/24 [==============================] - 0s 2ms/step - loss: 0.3580 - accuracy: 0.8667\n",
            "Epoch 190/200\n",
            "24/24 [==============================] - 0s 2ms/step - loss: 0.4202 - accuracy: 0.8000\n",
            "Epoch 191/200\n",
            "24/24 [==============================] - 0s 1ms/step - loss: 0.3899 - accuracy: 0.8417\n",
            "Epoch 192/200\n",
            "24/24 [==============================] - 0s 1ms/step - loss: 0.3732 - accuracy: 0.8000\n",
            "Epoch 193/200\n",
            "24/24 [==============================] - 0s 1ms/step - loss: 0.3180 - accuracy: 0.8750\n",
            "Epoch 194/200\n",
            "24/24 [==============================] - 0s 2ms/step - loss: 0.3750 - accuracy: 0.8167\n",
            "Epoch 195/200\n",
            "24/24 [==============================] - 0s 1ms/step - loss: 0.3679 - accuracy: 0.8667\n",
            "Epoch 196/200\n",
            "24/24 [==============================] - 0s 2ms/step - loss: 0.3484 - accuracy: 0.8833\n",
            "Epoch 197/200\n",
            "24/24 [==============================] - 0s 1ms/step - loss: 0.3701 - accuracy: 0.8750\n",
            "Epoch 198/200\n",
            "24/24 [==============================] - 0s 2ms/step - loss: 0.4025 - accuracy: 0.8083\n",
            "Epoch 199/200\n",
            "24/24 [==============================] - 0s 2ms/step - loss: 0.4354 - accuracy: 0.8167\n",
            "Epoch 200/200\n",
            "24/24 [==============================] - 0s 2ms/step - loss: 0.3824 - accuracy: 0.8167\n"
          ]
        },
        {
          "output_type": "execute_result",
          "data": {
            "text/plain": [
              "<keras.callbacks.History at 0x7f7f2f97df90>"
            ]
          },
          "metadata": {},
          "execution_count": 22
        }
      ],
      "source": [
        "# Train the model\n",
        "model.fit(train_x, train_y, batch_size=5, epochs=200)"
      ]
    },
    {
      "cell_type": "markdown",
      "metadata": {
        "id": "wNLTNYuS8gww"
      },
      "source": [
        "# <div style=\"direction:rtl;text-align:right;font-family:B Lotus, B Nazanin, Tahoma\">سوال 4:</div>\n",
        "<div style=\"direction:rtl;text-align:right;font-family:Tahoma\">\n",
        "مدل را روی داده های test ارزیابی کنید.\n",
        "<br>\n",
        "<b>راهنمایی: </b>\n",
        "از تابع model.evaluate استفاده کنید.\n",
        "</div>"
      ]
    },
    {
      "cell_type": "code",
      "execution_count": 24,
      "metadata": {
        "id": "c_9n2M4l8gwx",
        "outputId": "a4220c07-c08d-41a0-c982-b19bbbc6327b",
        "colab": {
          "base_uri": "https://localhost:8080/"
        }
      },
      "outputs": [
        {
          "output_type": "stream",
          "name": "stdout",
          "text": [
            "1/1 [==============================] - 0s 39ms/step - loss: 0.1400 - accuracy: 0.9667\n",
            "Final test set loss: 0.139974\n",
            "Final test set accuracy: 0.966667\n"
          ]
        }
      ],
      "source": [
        "# Test on unseen data\n",
        "results = model.evaluate(test_x, test_y)\n",
        "\n",
        "print('Final test set loss: {:4f}'.format(results[0]))\n",
        "print('Final test set accuracy: {:4f}'.format(results[1]))"
      ]
    }
  ],
  "metadata": {
    "kernelspec": {
      "display_name": "Python 3",
      "name": "python3"
    },
    "language_info": {
      "name": "python"
    },
    "colab": {
      "name": "Copy of ex1-mlp-iris.ipynb",
      "provenance": [],
      "collapsed_sections": []
    }
  },
  "nbformat": 4,
  "nbformat_minor": 0
}