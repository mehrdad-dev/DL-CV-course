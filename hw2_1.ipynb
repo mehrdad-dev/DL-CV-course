{
  "cells": [
    {
      "cell_type": "code",
      "execution_count": 1,
      "metadata": {
        "id": "tsrgq2OUtuUi"
      },
      "outputs": [],
      "source": [
        "from tensorflow import keras\n",
        "from keras.models import Sequential\n",
        "from keras.layers import Dense, Flatten, Dropout\n",
        "from keras.layers import Conv2D, MaxPooling2D\n",
        "from keras.datasets import cifar10\n",
        "import numpy as np\n",
        "import matplotlib.pyplot as plt\n",
        "%matplotlib inline"
      ]
    },
    {
      "cell_type": "code",
      "execution_count": 2,
      "metadata": {
        "id": "yB28usExtuUk",
        "colab": {
          "base_uri": "https://localhost:8080/"
        },
        "outputId": "c71a4360-8802-4893-9070-f909a19eb06c"
      },
      "outputs": [
        {
          "output_type": "stream",
          "name": "stdout",
          "text": [
            "Downloading data from https://www.cs.toronto.edu/~kriz/cifar-10-python.tar.gz\n",
            "170500096/170498071 [==============================] - 3s 0us/step\n",
            "170508288/170498071 [==============================] - 3s 0us/step\n"
          ]
        }
      ],
      "source": [
        "(x_train, y_train), (x_test, y_test) = cifar10.load_data()"
      ]
    },
    {
      "cell_type": "code",
      "execution_count": 3,
      "metadata": {
        "id": "yO9Kz2MBtuUm",
        "outputId": "44045aaf-08fe-4abc-cc90-8b2b75be69cb",
        "colab": {
          "base_uri": "https://localhost:8080/",
          "height": 283
        }
      },
      "outputs": [
        {
          "output_type": "execute_result",
          "data": {
            "text/plain": [
              "<matplotlib.image.AxesImage at 0x7f6391c92b90>"
            ]
          },
          "metadata": {},
          "execution_count": 3
        },
        {
          "output_type": "display_data",
          "data": {
            "image/png": "[encoded data removed]",
            "text/plain": [
              "<Figure size 432x288 with 1 Axes>"
            ]
          },
          "metadata": {
            "needs_background": "light"
          }
        }
      ],
      "source": [
        "plt.imshow(x_train[7])"
      ]
    },
    {
      "cell_type": "markdown",
      "metadata": {
        "id": "VAJ3gDVBtuUm"
      },
      "source": [
        "# <div style=\"direction:rtl;text-align:right;font-family:B Lotus, B Nazanin, Tahoma\">سوال 1:</div>\n",
        "<div style=\"direction:rtl;text-align:right;font-family:Tahoma\">\n",
        "ماتریس های تصویر را تبدیل به نوع داده ای float32 کنید و مقادیر پیکسل ها را نرمال کنید و بین 0 و 1 بیاورید.\n",
        "<br>\n",
        "<b>راهنمایی: </b>\n",
        "شما باید متد astype را صدا بزنید و در نهایت مقادیر پیکسل ها را تقسیم بر 255 کنید.</div>"
      ]
    },
    {
      "cell_type": "code",
      "execution_count": 4,
      "metadata": {
        "id": "Q7QYaYqMtuUn"
      },
      "outputs": [],
      "source": [
        "x_train = x_train.astype('float32') / 255\n",
        "x_test = x_test.astype('float32') / 255"
      ]
    },
    {
      "cell_type": "markdown",
      "metadata": {
        "id": "DVybHOYUtuUn"
      },
      "source": [
        "# <div style=\"direction:rtl;text-align:right;font-family:B Lotus, B Nazanin, Tahoma\">سوال 2:</div>\n",
        "<div style=\"direction:rtl;text-align:right;font-family:Tahoma\">\n",
        "همان طور که میبینید لیبل ها از نوع عددی هستند. آن ها را تبدیل به فرمت one-hot کنید.<br>\n",
        "</div>\n"
      ]
    },
    {
      "cell_type": "markdown",
      "metadata": {
        "id": "elAhhcDrtuUn"
      },
      "source": [
        "<hr>\n",
        "<div style=\"direction:rtl;text-align:right;font-family:Tahoma\">\n",
        "تعدادی از لیبل ها قبل از تبدیل به فرمت one-hot:</div>"
      ]
    },
    {
      "cell_type": "code",
      "execution_count": null,
      "metadata": {
        "id": "ZrXJt6zPtuUo",
        "outputId": "2466fbf8-57af-462c-e2cf-48b2e9c6894a",
        "colab": {
          "base_uri": "https://localhost:8080/"
        }
      },
      "outputs": [
        {
          "output_type": "execute_result",
          "data": {
            "text/plain": [
              "array([[6],\n",
              "       [9],\n",
              "       [9],\n",
              "       [4],\n",
              "       [1],\n",
              "       [1],\n",
              "       [2],\n",
              "       [7],\n",
              "       [8],\n",
              "       [3]], dtype=uint8)"
            ]
          },
          "metadata": {},
          "execution_count": 5
        }
      ],
      "source": [
        "y_train[0:10]"
      ]
    },
    {
      "cell_type": "code",
      "execution_count": 5,
      "metadata": {
        "id": "_xZSvHZituUo"
      },
      "outputs": [],
      "source": [
        "y_train =  keras.utils.to_categorical(y_train, num_classes=10)\n",
        "y_test  =  keras.utils.to_categorical(y_test, num_classes=10)"
      ]
    },
    {
      "cell_type": "markdown",
      "metadata": {
        "id": "aaxProtJtuUp"
      },
      "source": [
        "<div style=\"direction:rtl;text-align:right;font-family:Tahoma\">\n",
        "تعدادی از لیبل ها بعد از تبدیل به فرمت one-hot:</div>"
      ]
    },
    {
      "cell_type": "code",
      "source": [
        "y_train[0:10]"
      ],
      "metadata": {
        "colab": {
          "base_uri": "https://localhost:8080/"
        },
        "id": "dli79eIpwbvy",
        "outputId": "bd19e948-1e01-4c9b-8055-aa718bcdddf3"
      },
      "execution_count": null,
      "outputs": [
        {
          "output_type": "execute_result",
          "data": {
            "text/plain": [
              "array([[0., 0., 0., 0., 0., 0., 1., 0., 0., 0.],\n",
              "       [0., 0., 0., 0., 0., 0., 0., 0., 0., 1.],\n",
              "       [0., 0., 0., 0., 0., 0., 0., 0., 0., 1.],\n",
              "       [0., 0., 0., 0., 1., 0., 0., 0., 0., 0.],\n",
              "       [0., 1., 0., 0., 0., 0., 0., 0., 0., 0.],\n",
              "       [0., 1., 0., 0., 0., 0., 0., 0., 0., 0.],\n",
              "       [0., 0., 1., 0., 0., 0., 0., 0., 0., 0.],\n",
              "       [0., 0., 0., 0., 0., 0., 0., 1., 0., 0.],\n",
              "       [0., 0., 0., 0., 0., 0., 0., 0., 1., 0.],\n",
              "       [0., 0., 0., 1., 0., 0., 0., 0., 0., 0.]], dtype=float32)"
            ]
          },
          "metadata": {},
          "execution_count": 7
        }
      ]
    },
    {
      "cell_type": "markdown",
      "metadata": {
        "id": "TgQZC7S9tuUq"
      },
      "source": [
        "# <div style=\"direction:rtl;text-align:right;font-family:B Lotus, B Nazanin, Tahoma\">سوال 3:</div>\n",
        "<div style=\"direction:rtl;text-align:right;font-family:Tahoma\">\n",
        "یک شبکه کانولوشنالی با معماری زیر بسازید:\n",
        "<ul>\n",
        "    <li>\n",
        "    یک لایه کانولوشنی با32 فیلتر با سایز فیلتر 3x3 و تابع فعالیت relu\n",
        "    </li>\n",
        "    <li>\n",
        "    لایه ی pooling با pool_size=(2,2)\n",
        "    </li>\n",
        "    <li>\n",
        "    یک لایه کانولوشنی با32 فیلتر با سایز فیلتر 3x3 و تابع فعالیت relu\n",
        "    </li>\n",
        "    <li>\n",
        "    لایه ی pooling با pool_size=(2,2)\n",
        "    </li>\n",
        "    <li>\n",
        "    یک لایه کانولوشنی با64 فیلتر با سایز فیلتر 3x3 و تابع فعالیت relu\n",
        "    </li>\n",
        "    <li>\n",
        "    لایه ی pooling با pool_size=(2,2)\n",
        "    </li>\n",
        "    <li>\n",
        "    استفاده از لایه ی Flatten() . به نظرتون چرا؟\n",
        "    </li>    \n",
        "    <li>\n",
        "    یک لایه Dropout با ترخ 0.5.\n",
        "    </li>\n",
        "    <li>\n",
        "    یک لایه softmax برای احتمالات خروجی. به نظرتون این لایه چند نوران میخواهد؟\n",
        "    </li>    \n",
        " \n",
        "</ul>\n",
        "</div>\n"
      ]
    },
    {
      "cell_type": "code",
      "execution_count": null,
      "metadata": {
        "id": "zAi2gZXstuUq"
      },
      "outputs": [],
      "source": [
        "model = Sequential()\n",
        "model.add(Conv2D(32, (3,3), activation='relu', input_shape=(32,32,3), padding='same'))\n",
        "model.add(MaxPooling2D((2,2)))\n",
        "model.add(Conv2D(32, (3,3), activation='relu', padding='same'))\n",
        "model.add(MaxPooling2D((2,2)))\n",
        "model.add(Conv2D(64, (3,3), activation='relu', padding='same'))\n",
        "model.add(Flatten())           # because we want to add classifier layer \n",
        "model.add(Dropout(0.5))\n",
        "model.add(Dense(10, activation='softmax'))    # 10 neuron, because we have 10 class in our dataset"
      ]
    },
    {
      "cell_type": "code",
      "execution_count": null,
      "metadata": {
        "id": "7OLTBe2UtuUr"
      },
      "outputs": [],
      "source": [
        "opt  = keras.optimizers.Adam(learning_rate=0.0001)\n",
        "loss = keras.losses.CategoricalCrossentropy()\n",
        "es   = keras.callbacks.EarlyStopping(monitor='val_loss', patience=3, verbose=1, mode='min')\n",
        "check_point = keras.callbacks.ModelCheckpoint(monitor='val_loss',\n",
        "                                              filepath='model/weights.h5',\n",
        "                                              verbose=1,\n",
        "                                              save_best_only=True,\n",
        "                                              mode='min')\n",
        "model.compile(optimizer=opt, loss=loss, metrics=['acc'])"
      ]
    },
    {
      "cell_type": "code",
      "execution_count": null,
      "metadata": {
        "id": "_zyKqgL_tuUr",
        "outputId": "0cbf6534-8c53-4895-f880-12e34eaeadae",
        "colab": {
          "base_uri": "https://localhost:8080/"
        }
      },
      "outputs": [
        {
          "output_type": "stream",
          "name": "stdout",
          "text": [
            "Epoch 1/150\n",
            "782/782 [==============================] - ETA: 0s - loss: 1.8895 - acc: 0.3119\n",
            "Epoch 00001: val_loss improved from inf to 1.61486, saving model to model/weights.h5\n",
            "782/782 [==============================] - 14s 15ms/step - loss: 1.8895 - acc: 0.3119 - val_loss: 1.6149 - val_acc: 0.4289\n",
            "Epoch 2/150\n",
            "778/782 [============================>.] - ETA: 0s - loss: 1.5854 - acc: 0.4269\n",
            "Epoch 00002: val_loss improved from 1.61486 to 1.47871, saving model to model/weights.h5\n",
            "782/782 [==============================] - 8s 10ms/step - loss: 1.5849 - acc: 0.4270 - val_loss: 1.4787 - val_acc: 0.4728\n",
            "Epoch 3/150\n",
            "778/782 [============================>.] - ETA: 0s - loss: 1.4801 - acc: 0.4681\n",
            "Epoch 00003: val_loss improved from 1.47871 to 1.40672, saving model to model/weights.h5\n",
            "782/782 [==============================] - 8s 11ms/step - loss: 1.4800 - acc: 0.4681 - val_loss: 1.4067 - val_acc: 0.5038\n",
            "Epoch 4/150\n",
            "779/782 [============================>.] - ETA: 0s - loss: 1.4093 - acc: 0.4961\n",
            "Epoch 00004: val_loss improved from 1.40672 to 1.34913, saving model to model/weights.h5\n",
            "782/782 [==============================] - 8s 10ms/step - loss: 1.4095 - acc: 0.4961 - val_loss: 1.3491 - val_acc: 0.5305\n",
            "Epoch 5/150\n",
            "780/782 [============================>.] - ETA: 0s - loss: 1.3621 - acc: 0.5157\n",
            "Epoch 00005: val_loss improved from 1.34913 to 1.30034, saving model to model/weights.h5\n",
            "782/782 [==============================] - 8s 11ms/step - loss: 1.3619 - acc: 0.5157 - val_loss: 1.3003 - val_acc: 0.5480\n",
            "Epoch 6/150\n",
            "779/782 [============================>.] - ETA: 0s - loss: 1.3230 - acc: 0.5331\n",
            "Epoch 00006: val_loss improved from 1.30034 to 1.27279, saving model to model/weights.h5\n",
            "782/782 [==============================] - 8s 10ms/step - loss: 1.3230 - acc: 0.5331 - val_loss: 1.2728 - val_acc: 0.5534\n",
            "Epoch 7/150\n",
            "779/782 [============================>.] - ETA: 0s - loss: 1.2896 - acc: 0.5478\n",
            "Epoch 00007: val_loss improved from 1.27279 to 1.25633, saving model to model/weights.h5\n",
            "782/782 [==============================] - 8s 10ms/step - loss: 1.2895 - acc: 0.5477 - val_loss: 1.2563 - val_acc: 0.5606\n",
            "Epoch 8/150\n",
            "778/782 [============================>.] - ETA: 0s - loss: 1.2606 - acc: 0.5548\n",
            "Epoch 00008: val_loss improved from 1.25633 to 1.21119, saving model to model/weights.h5\n",
            "782/782 [==============================] - 8s 10ms/step - loss: 1.2604 - acc: 0.5549 - val_loss: 1.2112 - val_acc: 0.5811\n",
            "Epoch 9/150\n",
            "780/782 [============================>.] - ETA: 0s - loss: 1.2379 - acc: 0.5651\n",
            "Epoch 00009: val_loss improved from 1.21119 to 1.18940, saving model to model/weights.h5\n",
            "782/782 [==============================] - 8s 11ms/step - loss: 1.2377 - acc: 0.5652 - val_loss: 1.1894 - val_acc: 0.5840\n",
            "Epoch 10/150\n",
            "782/782 [==============================] - ETA: 0s - loss: 1.2153 - acc: 0.5722\n",
            "Epoch 00010: val_loss improved from 1.18940 to 1.17726, saving model to model/weights.h5\n",
            "782/782 [==============================] - 8s 10ms/step - loss: 1.2153 - acc: 0.5722 - val_loss: 1.1773 - val_acc: 0.5907\n",
            "Epoch 11/150\n",
            "778/782 [============================>.] - ETA: 0s - loss: 1.1933 - acc: 0.5797\n",
            "Epoch 00011: val_loss improved from 1.17726 to 1.16641, saving model to model/weights.h5\n",
            "782/782 [==============================] - 8s 11ms/step - loss: 1.1939 - acc: 0.5794 - val_loss: 1.1664 - val_acc: 0.5890\n",
            "Epoch 12/150\n",
            "781/782 [============================>.] - ETA: 0s - loss: 1.1683 - acc: 0.5911\n",
            "Epoch 00012: val_loss improved from 1.16641 to 1.12609, saving model to model/weights.h5\n",
            "782/782 [==============================] - 8s 11ms/step - loss: 1.1682 - acc: 0.5911 - val_loss: 1.1261 - val_acc: 0.6146\n",
            "Epoch 13/150\n",
            "780/782 [============================>.] - ETA: 0s - loss: 1.1506 - acc: 0.5960\n",
            "Epoch 00013: val_loss improved from 1.12609 to 1.10948, saving model to model/weights.h5\n",
            "782/782 [==============================] - 9s 11ms/step - loss: 1.1502 - acc: 0.5962 - val_loss: 1.1095 - val_acc: 0.6174\n",
            "Epoch 14/150\n",
            "777/782 [============================>.] - ETA: 0s - loss: 1.1316 - acc: 0.6041\n",
            "Epoch 00014: val_loss improved from 1.10948 to 1.09629, saving model to model/weights.h5\n",
            "782/782 [==============================] - 8s 10ms/step - loss: 1.1316 - acc: 0.6041 - val_loss: 1.0963 - val_acc: 0.6128\n",
            "Epoch 15/150\n",
            "779/782 [============================>.] - ETA: 0s - loss: 1.1153 - acc: 0.6083\n",
            "Epoch 00015: val_loss improved from 1.09629 to 1.07211, saving model to model/weights.h5\n",
            "782/782 [==============================] - 8s 11ms/step - loss: 1.1145 - acc: 0.6086 - val_loss: 1.0721 - val_acc: 0.6248\n",
            "Epoch 16/150\n",
            "779/782 [============================>.] - ETA: 0s - loss: 1.0968 - acc: 0.6176\n",
            "Epoch 00016: val_loss improved from 1.07211 to 1.05780, saving model to model/weights.h5\n",
            "782/782 [==============================] - 9s 11ms/step - loss: 1.0966 - acc: 0.6177 - val_loss: 1.0578 - val_acc: 0.6319\n",
            "Epoch 17/150\n",
            "779/782 [============================>.] - ETA: 0s - loss: 1.0805 - acc: 0.6247\n",
            "Epoch 00017: val_loss improved from 1.05780 to 1.05307, saving model to model/weights.h5\n",
            "782/782 [==============================] - 8s 11ms/step - loss: 1.0807 - acc: 0.6246 - val_loss: 1.0531 - val_acc: 0.6371\n",
            "Epoch 18/150\n",
            "777/782 [============================>.] - ETA: 0s - loss: 1.0638 - acc: 0.6286\n",
            "Epoch 00018: val_loss improved from 1.05307 to 1.02689, saving model to model/weights.h5\n",
            "782/782 [==============================] - 8s 11ms/step - loss: 1.0638 - acc: 0.6287 - val_loss: 1.0269 - val_acc: 0.6438\n",
            "Epoch 19/150\n",
            "779/782 [============================>.] - ETA: 0s - loss: 1.0491 - acc: 0.6331\n",
            "Epoch 00019: val_loss improved from 1.02689 to 1.01631, saving model to model/weights.h5\n",
            "782/782 [==============================] - 9s 11ms/step - loss: 1.0491 - acc: 0.6331 - val_loss: 1.0163 - val_acc: 0.6507\n",
            "Epoch 20/150\n",
            "777/782 [============================>.] - ETA: 0s - loss: 1.0373 - acc: 0.6392\n",
            "Epoch 00020: val_loss did not improve from 1.01631\n",
            "782/782 [==============================] - 9s 12ms/step - loss: 1.0373 - acc: 0.6392 - val_loss: 1.0196 - val_acc: 0.6504\n",
            "Epoch 21/150\n",
            "782/782 [==============================] - ETA: 0s - loss: 1.0209 - acc: 0.6439\n",
            "Epoch 00021: val_loss improved from 1.01631 to 1.00222, saving model to model/weights.h5\n",
            "782/782 [==============================] - 8s 11ms/step - loss: 1.0209 - acc: 0.6439 - val_loss: 1.0022 - val_acc: 0.6521\n",
            "Epoch 22/150\n",
            "780/782 [============================>.] - ETA: 0s - loss: 1.0094 - acc: 0.6481\n",
            "Epoch 00022: val_loss improved from 1.00222 to 0.98437, saving model to model/weights.h5\n",
            "782/782 [==============================] - 8s 10ms/step - loss: 1.0093 - acc: 0.6481 - val_loss: 0.9844 - val_acc: 0.6560\n",
            "Epoch 23/150\n",
            "777/782 [============================>.] - ETA: 0s - loss: 0.9950 - acc: 0.6544\n",
            "Epoch 00023: val_loss improved from 0.98437 to 0.97851, saving model to model/weights.h5\n",
            "782/782 [==============================] - 9s 11ms/step - loss: 0.9954 - acc: 0.6542 - val_loss: 0.9785 - val_acc: 0.6593\n",
            "Epoch 24/150\n",
            "779/782 [============================>.] - ETA: 0s - loss: 0.9849 - acc: 0.6584\n",
            "Epoch 00024: val_loss improved from 0.97851 to 0.96165, saving model to model/weights.h5\n",
            "782/782 [==============================] - 8s 10ms/step - loss: 0.9849 - acc: 0.6585 - val_loss: 0.9616 - val_acc: 0.6677\n",
            "Epoch 25/150\n",
            "779/782 [============================>.] - ETA: 0s - loss: 0.9708 - acc: 0.6628\n",
            "Epoch 00025: val_loss improved from 0.96165 to 0.94614, saving model to model/weights.h5\n",
            "782/782 [==============================] - 9s 11ms/step - loss: 0.9713 - acc: 0.6626 - val_loss: 0.9461 - val_acc: 0.6767\n",
            "Epoch 26/150\n",
            "781/782 [============================>.] - ETA: 0s - loss: 0.9610 - acc: 0.6672\n",
            "Epoch 00026: val_loss did not improve from 0.94614\n",
            "782/782 [==============================] - 8s 11ms/step - loss: 0.9611 - acc: 0.6672 - val_loss: 0.9531 - val_acc: 0.6659\n",
            "Epoch 27/150\n",
            "780/782 [============================>.] - ETA: 0s - loss: 0.9519 - acc: 0.6718\n",
            "Epoch 00027: val_loss improved from 0.94614 to 0.92671, saving model to model/weights.h5\n",
            "782/782 [==============================] - 8s 10ms/step - loss: 0.9520 - acc: 0.6717 - val_loss: 0.9267 - val_acc: 0.6829\n",
            "Epoch 28/150\n",
            "778/782 [============================>.] - ETA: 0s - loss: 0.9418 - acc: 0.6745\n",
            "Epoch 00028: val_loss improved from 0.92671 to 0.92648, saving model to model/weights.h5\n",
            "782/782 [==============================] - 9s 11ms/step - loss: 0.9413 - acc: 0.6747 - val_loss: 0.9265 - val_acc: 0.6791\n",
            "Epoch 29/150\n",
            "780/782 [============================>.] - ETA: 0s - loss: 0.9334 - acc: 0.6753\n",
            "Epoch 00029: val_loss improved from 0.92648 to 0.91676, saving model to model/weights.h5\n",
            "782/782 [==============================] - 9s 11ms/step - loss: 0.9335 - acc: 0.6754 - val_loss: 0.9168 - val_acc: 0.6857\n",
            "Epoch 30/150\n",
            "781/782 [============================>.] - ETA: 0s - loss: 0.9224 - acc: 0.6806\n",
            "Epoch 00030: val_loss did not improve from 0.91676\n",
            "782/782 [==============================] - 8s 10ms/step - loss: 0.9224 - acc: 0.6806 - val_loss: 0.9303 - val_acc: 0.6785\n",
            "Epoch 31/150\n",
            "780/782 [============================>.] - ETA: 0s - loss: 0.9115 - acc: 0.6843\n",
            "Epoch 00031: val_loss improved from 0.91676 to 0.91086, saving model to model/weights.h5\n",
            "782/782 [==============================] - 8s 10ms/step - loss: 0.9114 - acc: 0.6844 - val_loss: 0.9109 - val_acc: 0.6836\n",
            "Epoch 32/150\n",
            "780/782 [============================>.] - ETA: 0s - loss: 0.9041 - acc: 0.6870\n",
            "Epoch 00032: val_loss improved from 0.91086 to 0.90850, saving model to model/weights.h5\n",
            "782/782 [==============================] - 8s 10ms/step - loss: 0.9041 - acc: 0.6869 - val_loss: 0.9085 - val_acc: 0.6893\n",
            "Epoch 33/150\n",
            "778/782 [============================>.] - ETA: 0s - loss: 0.8947 - acc: 0.6893\n",
            "Epoch 00033: val_loss improved from 0.90850 to 0.88355, saving model to model/weights.h5\n",
            "782/782 [==============================] - 9s 11ms/step - loss: 0.8945 - acc: 0.6894 - val_loss: 0.8835 - val_acc: 0.6985\n",
            "Epoch 34/150\n",
            "780/782 [============================>.] - ETA: 0s - loss: 0.8871 - acc: 0.6935\n",
            "Epoch 00034: val_loss did not improve from 0.88355\n",
            "782/782 [==============================] - 9s 11ms/step - loss: 0.8869 - acc: 0.6937 - val_loss: 0.9006 - val_acc: 0.6907\n",
            "Epoch 35/150\n",
            "782/782 [==============================] - ETA: 0s - loss: 0.8802 - acc: 0.6956\n",
            "Epoch 00035: val_loss improved from 0.88355 to 0.87360, saving model to model/weights.h5\n",
            "782/782 [==============================] - 8s 10ms/step - loss: 0.8802 - acc: 0.6956 - val_loss: 0.8736 - val_acc: 0.7049\n",
            "Epoch 36/150\n",
            "779/782 [============================>.] - ETA: 0s - loss: 0.8759 - acc: 0.6969\n",
            "Epoch 00036: val_loss improved from 0.87360 to 0.86925, saving model to model/weights.h5\n",
            "782/782 [==============================] - 9s 11ms/step - loss: 0.8757 - acc: 0.6970 - val_loss: 0.8693 - val_acc: 0.7026\n",
            "Epoch 37/150\n",
            "781/782 [============================>.] - ETA: 0s - loss: 0.8645 - acc: 0.7029\n",
            "Epoch 00037: val_loss did not improve from 0.86925\n",
            "782/782 [==============================] - 9s 11ms/step - loss: 0.8645 - acc: 0.7030 - val_loss: 0.8740 - val_acc: 0.6988\n",
            "Epoch 38/150\n",
            "781/782 [============================>.] - ETA: 0s - loss: 0.8586 - acc: 0.7052\n",
            "Epoch 00038: val_loss improved from 0.86925 to 0.85560, saving model to model/weights.h5\n",
            "782/782 [==============================] - 9s 11ms/step - loss: 0.8587 - acc: 0.7053 - val_loss: 0.8556 - val_acc: 0.7074\n",
            "Epoch 39/150\n",
            "781/782 [============================>.] - ETA: 0s - loss: 0.8525 - acc: 0.7061\n",
            "Epoch 00039: val_loss improved from 0.85560 to 0.85135, saving model to model/weights.h5\n",
            "782/782 [==============================] - 9s 12ms/step - loss: 0.8524 - acc: 0.7062 - val_loss: 0.8513 - val_acc: 0.7085\n",
            "Epoch 40/150\n",
            "779/782 [============================>.] - ETA: 0s - loss: 0.8452 - acc: 0.7077\n",
            "Epoch 00040: val_loss improved from 0.85135 to 0.85112, saving model to model/weights.h5\n",
            "782/782 [==============================] - 11s 15ms/step - loss: 0.8454 - acc: 0.7076 - val_loss: 0.8511 - val_acc: 0.7104\n",
            "Epoch 41/150\n",
            "779/782 [============================>.] - ETA: 0s - loss: 0.8418 - acc: 0.7099\n",
            "Epoch 00041: val_loss improved from 0.85112 to 0.83231, saving model to model/weights.h5\n",
            "782/782 [==============================] - 9s 11ms/step - loss: 0.8420 - acc: 0.7098 - val_loss: 0.8323 - val_acc: 0.7176\n",
            "Epoch 42/150\n",
            "781/782 [============================>.] - ETA: 0s - loss: 0.8350 - acc: 0.7119\n",
            "Epoch 00042: val_loss did not improve from 0.83231\n",
            "782/782 [==============================] - 8s 10ms/step - loss: 0.8351 - acc: 0.7119 - val_loss: 0.8332 - val_acc: 0.7186\n",
            "Epoch 43/150\n",
            "780/782 [============================>.] - ETA: 0s - loss: 0.8311 - acc: 0.7122\n",
            "Epoch 00043: val_loss improved from 0.83231 to 0.83121, saving model to model/weights.h5\n",
            "782/782 [==============================] - 9s 11ms/step - loss: 0.8312 - acc: 0.7121 - val_loss: 0.8312 - val_acc: 0.7168\n",
            "Epoch 44/150\n",
            "780/782 [============================>.] - ETA: 0s - loss: 0.8224 - acc: 0.7164\n",
            "Epoch 00044: val_loss improved from 0.83121 to 0.82118, saving model to model/weights.h5\n",
            "782/782 [==============================] - 8s 11ms/step - loss: 0.8223 - acc: 0.7164 - val_loss: 0.8212 - val_acc: 0.7207\n",
            "Epoch 45/150\n",
            "782/782 [==============================] - ETA: 0s - loss: 0.8168 - acc: 0.7176\n",
            "Epoch 00045: val_loss did not improve from 0.82118\n",
            "782/782 [==============================] - 9s 11ms/step - loss: 0.8168 - acc: 0.7176 - val_loss: 0.8218 - val_acc: 0.7223\n",
            "Epoch 46/150\n",
            "778/782 [============================>.] - ETA: 0s - loss: 0.8109 - acc: 0.7200\n",
            "Epoch 00046: val_loss did not improve from 0.82118\n",
            "782/782 [==============================] - 8s 10ms/step - loss: 0.8109 - acc: 0.7200 - val_loss: 0.8265 - val_acc: 0.7221\n",
            "Epoch 47/150\n",
            "777/782 [============================>.] - ETA: 0s - loss: 0.8046 - acc: 0.7235\n",
            "Epoch 00047: val_loss improved from 0.82118 to 0.81122, saving model to model/weights.h5\n",
            "782/782 [==============================] - 8s 11ms/step - loss: 0.8046 - acc: 0.7234 - val_loss: 0.8112 - val_acc: 0.7258\n",
            "Epoch 48/150\n",
            "782/782 [==============================] - ETA: 0s - loss: 0.8013 - acc: 0.7245\n",
            "Epoch 00048: val_loss did not improve from 0.81122\n",
            "782/782 [==============================] - 8s 11ms/step - loss: 0.8013 - acc: 0.7245 - val_loss: 0.8175 - val_acc: 0.7246\n",
            "Epoch 49/150\n",
            "782/782 [==============================] - ETA: 0s - loss: 0.7969 - acc: 0.7242\n",
            "Epoch 00049: val_loss improved from 0.81122 to 0.80456, saving model to model/weights.h5\n",
            "782/782 [==============================] - 8s 11ms/step - loss: 0.7969 - acc: 0.7242 - val_loss: 0.8046 - val_acc: 0.7269\n",
            "Epoch 50/150\n",
            "782/782 [==============================] - ETA: 0s - loss: 0.7892 - acc: 0.7278\n",
            "Epoch 00050: val_loss improved from 0.80456 to 0.79876, saving model to model/weights.h5\n",
            "782/782 [==============================] - 9s 12ms/step - loss: 0.7892 - acc: 0.7278 - val_loss: 0.7988 - val_acc: 0.7320\n",
            "Epoch 51/150\n",
            "782/782 [==============================] - ETA: 0s - loss: 0.7882 - acc: 0.7272\n",
            "Epoch 00051: val_loss improved from 0.79876 to 0.79715, saving model to model/weights.h5\n",
            "782/782 [==============================] - 8s 11ms/step - loss: 0.7882 - acc: 0.7272 - val_loss: 0.7971 - val_acc: 0.7306\n",
            "Epoch 52/150\n",
            "780/782 [============================>.] - ETA: 0s - loss: 0.7827 - acc: 0.7295\n",
            "Epoch 00052: val_loss improved from 0.79715 to 0.79107, saving model to model/weights.h5\n",
            "782/782 [==============================] - 8s 11ms/step - loss: 0.7828 - acc: 0.7296 - val_loss: 0.7911 - val_acc: 0.7290\n",
            "Epoch 53/150\n",
            "781/782 [============================>.] - ETA: 0s - loss: 0.7779 - acc: 0.7314\n",
            "Epoch 00053: val_loss improved from 0.79107 to 0.78349, saving model to model/weights.h5\n",
            "782/782 [==============================] - 9s 11ms/step - loss: 0.7779 - acc: 0.7314 - val_loss: 0.7835 - val_acc: 0.7349\n",
            "Epoch 54/150\n",
            "781/782 [============================>.] - ETA: 0s - loss: 0.7749 - acc: 0.7348\n",
            "Epoch 00054: val_loss did not improve from 0.78349\n",
            "782/782 [==============================] - 9s 11ms/step - loss: 0.7749 - acc: 0.7349 - val_loss: 0.7921 - val_acc: 0.7316\n",
            "Epoch 55/150\n",
            "782/782 [==============================] - ETA: 0s - loss: 0.7680 - acc: 0.7348\n",
            "Epoch 00055: val_loss did not improve from 0.78349\n",
            "782/782 [==============================] - 8s 11ms/step - loss: 0.7680 - acc: 0.7348 - val_loss: 0.7849 - val_acc: 0.7359\n",
            "Epoch 56/150\n",
            "779/782 [============================>.] - ETA: 0s - loss: 0.7627 - acc: 0.7367\n",
            "Epoch 00056: val_loss improved from 0.78349 to 0.78164, saving model to model/weights.h5\n",
            "782/782 [==============================] - 8s 11ms/step - loss: 0.7626 - acc: 0.7367 - val_loss: 0.7816 - val_acc: 0.7355\n",
            "Epoch 57/150\n",
            "779/782 [============================>.] - ETA: 0s - loss: 0.7604 - acc: 0.7387\n",
            "Epoch 00057: val_loss improved from 0.78164 to 0.77520, saving model to model/weights.h5\n",
            "782/782 [==============================] - 8s 10ms/step - loss: 0.7602 - acc: 0.7388 - val_loss: 0.7752 - val_acc: 0.7391\n",
            "Epoch 58/150\n",
            "778/782 [============================>.] - ETA: 0s - loss: 0.7586 - acc: 0.7381\n",
            "Epoch 00058: val_loss did not improve from 0.77520\n",
            "782/782 [==============================] - 8s 10ms/step - loss: 0.7587 - acc: 0.7381 - val_loss: 0.7766 - val_acc: 0.7353\n",
            "Epoch 59/150\n",
            "779/782 [============================>.] - ETA: 0s - loss: 0.7540 - acc: 0.7387\n",
            "Epoch 00059: val_loss did not improve from 0.77520\n",
            "782/782 [==============================] - 9s 11ms/step - loss: 0.7538 - acc: 0.7388 - val_loss: 0.7850 - val_acc: 0.7337\n",
            "Epoch 60/150\n",
            "780/782 [============================>.] - ETA: 0s - loss: 0.7505 - acc: 0.7413\n",
            "Epoch 00060: val_loss improved from 0.77520 to 0.77290, saving model to model/weights.h5\n",
            "782/782 [==============================] - 8s 11ms/step - loss: 0.7505 - acc: 0.7413 - val_loss: 0.7729 - val_acc: 0.7381\n",
            "Epoch 61/150\n",
            "778/782 [============================>.] - ETA: 0s - loss: 0.7491 - acc: 0.7427\n",
            "Epoch 00061: val_loss improved from 0.77290 to 0.76907, saving model to model/weights.h5\n",
            "782/782 [==============================] - 9s 11ms/step - loss: 0.7493 - acc: 0.7427 - val_loss: 0.7691 - val_acc: 0.7388\n",
            "Epoch 62/150\n",
            "781/782 [============================>.] - ETA: 0s - loss: 0.7442 - acc: 0.7431\n",
            "Epoch 00062: val_loss improved from 0.76907 to 0.76778, saving model to model/weights.h5\n",
            "782/782 [==============================] - 9s 12ms/step - loss: 0.7442 - acc: 0.7431 - val_loss: 0.7678 - val_acc: 0.7391\n",
            "Epoch 63/150\n",
            "782/782 [==============================] - ETA: 0s - loss: 0.7406 - acc: 0.7440\n",
            "Epoch 00063: val_loss improved from 0.76778 to 0.76042, saving model to model/weights.h5\n",
            "782/782 [==============================] - 9s 12ms/step - loss: 0.7406 - acc: 0.7440 - val_loss: 0.7604 - val_acc: 0.7389\n",
            "Epoch 64/150\n",
            "782/782 [==============================] - ETA: 0s - loss: 0.7365 - acc: 0.7467\n",
            "Epoch 00064: val_loss did not improve from 0.76042\n",
            "782/782 [==============================] - 9s 11ms/step - loss: 0.7365 - acc: 0.7467 - val_loss: 0.7667 - val_acc: 0.7370\n",
            "Epoch 65/150\n",
            "780/782 [============================>.] - ETA: 0s - loss: 0.7330 - acc: 0.7476\n",
            "Epoch 00065: val_loss did not improve from 0.76042\n",
            "782/782 [==============================] - 9s 12ms/step - loss: 0.7334 - acc: 0.7474 - val_loss: 0.7619 - val_acc: 0.7397\n",
            "Epoch 66/150\n",
            "778/782 [============================>.] - ETA: 0s - loss: 0.7277 - acc: 0.7489\n",
            "Epoch 00066: val_loss improved from 0.76042 to 0.75061, saving model to model/weights.h5\n",
            "782/782 [==============================] - 9s 12ms/step - loss: 0.7274 - acc: 0.7491 - val_loss: 0.7506 - val_acc: 0.7475\n",
            "Epoch 67/150\n",
            "782/782 [==============================] - ETA: 0s - loss: 0.7285 - acc: 0.7489\n",
            "Epoch 00067: val_loss did not improve from 0.75061\n",
            "782/782 [==============================] - 9s 11ms/step - loss: 0.7285 - acc: 0.7489 - val_loss: 0.7579 - val_acc: 0.7433\n",
            "Epoch 68/150\n",
            "781/782 [============================>.] - ETA: 0s - loss: 0.7237 - acc: 0.7497\n",
            "Epoch 00068: val_loss improved from 0.75061 to 0.74208, saving model to model/weights.h5\n",
            "782/782 [==============================] - 8s 11ms/step - loss: 0.7236 - acc: 0.7497 - val_loss: 0.7421 - val_acc: 0.7492\n",
            "Epoch 69/150\n",
            "781/782 [============================>.] - ETA: 0s - loss: 0.7176 - acc: 0.7520\n",
            "Epoch 00069: val_loss did not improve from 0.74208\n",
            "782/782 [==============================] - 9s 11ms/step - loss: 0.7176 - acc: 0.7520 - val_loss: 0.7458 - val_acc: 0.7465\n",
            "Epoch 70/150\n",
            "781/782 [============================>.] - ETA: 0s - loss: 0.7185 - acc: 0.7508\n",
            "Epoch 00070: val_loss improved from 0.74208 to 0.74082, saving model to model/weights.h5\n",
            "782/782 [==============================] - 9s 11ms/step - loss: 0.7187 - acc: 0.7507 - val_loss: 0.7408 - val_acc: 0.7492\n",
            "Epoch 71/150\n",
            "780/782 [============================>.] - ETA: 0s - loss: 0.7163 - acc: 0.7519\n",
            "Epoch 00071: val_loss improved from 0.74082 to 0.73908, saving model to model/weights.h5\n",
            "782/782 [==============================] - 9s 11ms/step - loss: 0.7163 - acc: 0.7520 - val_loss: 0.7391 - val_acc: 0.7507\n",
            "Epoch 72/150\n",
            "777/782 [============================>.] - ETA: 0s - loss: 0.7075 - acc: 0.7549\n",
            "Epoch 00072: val_loss did not improve from 0.73908\n",
            "782/782 [==============================] - 9s 11ms/step - loss: 0.7077 - acc: 0.7550 - val_loss: 0.7460 - val_acc: 0.7487\n",
            "Epoch 73/150\n",
            "780/782 [============================>.] - ETA: 0s - loss: 0.7084 - acc: 0.7567\n",
            "Epoch 00073: val_loss improved from 0.73908 to 0.73750, saving model to model/weights.h5\n",
            "782/782 [==============================] - 9s 12ms/step - loss: 0.7082 - acc: 0.7568 - val_loss: 0.7375 - val_acc: 0.7490\n",
            "Epoch 74/150\n",
            "781/782 [============================>.] - ETA: 0s - loss: 0.7068 - acc: 0.7548\n",
            "Epoch 00074: val_loss did not improve from 0.73750\n",
            "782/782 [==============================] - 9s 11ms/step - loss: 0.7067 - acc: 0.7548 - val_loss: 0.7573 - val_acc: 0.7441\n",
            "Epoch 75/150\n",
            "779/782 [============================>.] - ETA: 0s - loss: 0.7013 - acc: 0.7593\n",
            "Epoch 00075: val_loss did not improve from 0.73750\n",
            "782/782 [==============================] - 9s 11ms/step - loss: 0.7012 - acc: 0.7594 - val_loss: 0.7492 - val_acc: 0.7448\n",
            "Epoch 76/150\n",
            "780/782 [============================>.] - ETA: 0s - loss: 0.6996 - acc: 0.7587\n",
            "Epoch 00076: val_loss did not improve from 0.73750\n",
            "782/782 [==============================] - 9s 12ms/step - loss: 0.6997 - acc: 0.7587 - val_loss: 0.7537 - val_acc: 0.7428\n",
            "Epoch 00076: early stopping\n"
          ]
        }
      ],
      "source": [
        "history = model.fit(x_train, y_train, batch_size=64, epochs=150, verbose=1, callbacks=[es, check_point], validation_data=(x_test, y_test))"
      ]
    },
    {
      "cell_type": "code",
      "source": [
        "plt.plot(history.history['acc'])\n",
        "plt.plot(history.history['val_acc'])"
      ],
      "metadata": {
        "colab": {
          "base_uri": "https://localhost:8080/",
          "height": 282
        },
        "id": "jhQKjKqnHacm",
        "outputId": "463de56c-e095-48ff-8c5d-af230c0ec7d8"
      },
      "execution_count": null,
      "outputs": [
        {
          "output_type": "execute_result",
          "data": {
            "text/plain": [
              "[<matplotlib.lines.Line2D at 0x7fa4590dc550>]"
            ]
          },
          "metadata": {},
          "execution_count": 11
        },
        {
          "output_type": "display_data",
          "data": {
            "image/png": "[encoded data removed]",
            "text/plain": [
              "<Figure size 432x288 with 1 Axes>"
            ]
          },
          "metadata": {
            "needs_background": "light"
          }
        }
      ]
    },
    {
      "cell_type": "code",
      "source": [
        "plt.plot(history.history['loss'])\n",
        "plt.plot(history.history['val_loss'])"
      ],
      "metadata": {
        "colab": {
          "base_uri": "https://localhost:8080/",
          "height": 282
        },
        "id": "OZMQAayUK_KT",
        "outputId": "79189d09-1cf9-4b0e-a8c6-625a1d48fcb2"
      },
      "execution_count": null,
      "outputs": [
        {
          "output_type": "execute_result",
          "data": {
            "text/plain": [
              "[<matplotlib.lines.Line2D at 0x7fa4d189abd0>]"
            ]
          },
          "metadata": {},
          "execution_count": 12
        },
        {
          "output_type": "display_data",
          "data": {
            "image/png": "[encoded data removed]",
            "text/plain": [
              "<Figure size 432x288 with 1 Axes>"
            ]
          },
          "metadata": {
            "needs_background": "light"
          }
        }
      ]
    },
    {
      "cell_type": "code",
      "source": [
        "model.evaluate(x_test, y_test)"
      ],
      "metadata": {
        "colab": {
          "base_uri": "https://localhost:8080/"
        },
        "id": "hVogA-x5Lmfb",
        "outputId": "af5a64ed-c53f-4526-ab73-1abed70b40b0"
      },
      "execution_count": null,
      "outputs": [
        {
          "output_type": "stream",
          "name": "stdout",
          "text": [
            "313/313 [==============================] - 2s 5ms/step - loss: 0.7537 - acc: 0.7428\n"
          ]
        },
        {
          "output_type": "execute_result",
          "data": {
            "text/plain": [
              "[0.7536700367927551, 0.7427999973297119]"
            ]
          },
          "metadata": {},
          "execution_count": 13
        }
      ]
    },
    {
      "cell_type": "markdown",
      "metadata": {
        "id": "4VYfIVcTtuUr"
      },
      "source": [
        "# <div style=\"direction:rtl;text-align:right;font-family:B Lotus, B Nazanin, Tahoma\">سوال 6:</div>\n",
        "<div style=\"direction:rtl;text-align:right;font-family:Tahoma\">\n",
        "شبکه و هایپرپارامترهای این شبکه را به هر نحوی دوست دارید تغییر دهید تا دقت روی دادگان تست را به حداکثر برسانید.\n",
        "</div>\n"
      ]
    },
    {
      "cell_type": "markdown",
      "source": [
        "# best hyper parametrs without overfitting:\n",
        "oprimizer: adam, 0.0001\n",
        "\n",
        "batch size: 64"
      ],
      "metadata": {
        "id": "a0Uuv6fflFjA"
      }
    }
  ],
  "metadata": {
    "kernelspec": {
      "display_name": "Python 3",
      "name": "python3"
    },
    "language_info": {
      "name": "python"
    },
    "colab": {
      "name": "digi_hw2_1.ipynb",
      "provenance": [],
      "collapsed_sections": []
    },
    "accelerator": "GPU"
  },
  "nbformat": 4,
  "nbformat_minor": 0
}