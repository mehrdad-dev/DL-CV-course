{
  "nbformat": 4,
  "nbformat_minor": 0,
  "metadata": {
    "colab": {
      "name": "digi_hw2_2.ipynb",
      "provenance": [],
      "collapsed_sections": []
    },
    "kernelspec": {
      "name": "python3",
      "display_name": "Python 3"
    },
    "language_info": {
      "name": "python"
    },
    "accelerator": "GPU"
  },
  "cells": [
    {
      "cell_type": "code",
      "execution_count": 1,
      "metadata": {
        "id": "wO1u3D0xA_Hy"
      },
      "outputs": [],
      "source": [
        "import matplotlib.pyplot as plt\n",
        "from tensorflow import keras\n",
        "import numpy as np"
      ]
    },
    {
      "cell_type": "code",
      "source": [
        "fashion_mnist = keras.datasets.fashion_mnist\n",
        "(train_images, train_labels), (test_images, test_labels) = fashion_mnist.load_data()"
      ],
      "metadata": {
        "colab": {
          "base_uri": "https://localhost:8080/"
        },
        "id": "NgrM9MuxBRGE",
        "outputId": "18bffcf6-6bb9-4bd3-f132-75119b04e7dd"
      },
      "execution_count": 2,
      "outputs": [
        {
          "output_type": "stream",
          "name": "stdout",
          "text": [
            "Downloading data from https://storage.googleapis.com/tensorflow/tf-keras-datasets/train-labels-idx1-ubyte.gz\n",
            "32768/29515 [=================================] - 0s 0us/step\n",
            "40960/29515 [=========================================] - 0s 0us/step\n",
            "Downloading data from https://storage.googleapis.com/tensorflow/tf-keras-datasets/train-images-idx3-ubyte.gz\n",
            "26427392/26421880 [==============================] - 0s 0us/step\n",
            "26435584/26421880 [==============================] - 0s 0us/step\n",
            "Downloading data from https://storage.googleapis.com/tensorflow/tf-keras-datasets/t10k-labels-idx1-ubyte.gz\n",
            "16384/5148 [===============================================================================================] - 0s 0us/step\n",
            "Downloading data from https://storage.googleapis.com/tensorflow/tf-keras-datasets/t10k-images-idx3-ubyte.gz\n",
            "4423680/4422102 [==============================] - 0s 0us/step\n",
            "4431872/4422102 [==============================] - 0s 0us/step\n"
          ]
        }
      ]
    },
    {
      "cell_type": "code",
      "source": [
        "train_images = train_images.astype('float32')\n",
        "test_images = test_images.astype('float32')\n",
        "train_images = train_images / 255.0\n",
        "test_images = test_images / 255.0"
      ],
      "metadata": {
        "id": "qxEPHMaYBTuQ"
      },
      "execution_count": 3,
      "outputs": []
    },
    {
      "cell_type": "code",
      "source": [
        "train_images.shape"
      ],
      "metadata": {
        "colab": {
          "base_uri": "https://localhost:8080/"
        },
        "id": "ZWRIA26nBotE",
        "outputId": "e974c9e4-9222-49e5-b413-7c319b5d62b8"
      },
      "execution_count": 4,
      "outputs": [
        {
          "output_type": "execute_result",
          "data": {
            "text/plain": [
              "(60000, 28, 28)"
            ]
          },
          "metadata": {},
          "execution_count": 4
        }
      ]
    },
    {
      "cell_type": "code",
      "source": [
        "train_labels = keras.utils.to_categorical(train_labels, num_classes=10)\n",
        "test_labels = keras.utils.to_categorical(test_labels, num_classes=10)"
      ],
      "metadata": {
        "id": "Byby98qICJxa"
      },
      "execution_count": 5,
      "outputs": []
    },
    {
      "cell_type": "code",
      "source": [
        "test_labels"
      ],
      "metadata": {
        "colab": {
          "base_uri": "https://localhost:8080/"
        },
        "id": "aJX5m16_F1_s",
        "outputId": "0595282f-d87e-48a2-cd72-7ebe8ce336f6"
      },
      "execution_count": 6,
      "outputs": [
        {
          "output_type": "execute_result",
          "data": {
            "text/plain": [
              "array([[0., 0., 0., ..., 0., 0., 1.],\n",
              "       [0., 0., 1., ..., 0., 0., 0.],\n",
              "       [0., 1., 0., ..., 0., 0., 0.],\n",
              "       ...,\n",
              "       [0., 0., 0., ..., 0., 1., 0.],\n",
              "       [0., 1., 0., ..., 0., 0., 0.],\n",
              "       [0., 0., 0., ..., 0., 0., 0.]], dtype=float32)"
            ]
          },
          "metadata": {},
          "execution_count": 6
        }
      ]
    },
    {
      "cell_type": "code",
      "source": [
        "def creat_model():\n",
        "    model = keras.Sequential(name='myFashionMNIST')\n",
        "    model.add(keras.layers.Input(shape=(28,28,1)))\n",
        "    model.add(keras.layers.Conv2D(32, (3,3), activation='relu', padding='same'))\n",
        "    model.add(keras.layers.MaxPooling2D((2,2)))\n",
        "    model.add(keras.layers.Conv2D(32, (3,3), activation='relu', padding='same'))\n",
        "    model.add(keras.layers.MaxPooling2D((2,2)))    \n",
        "    model.add(keras.layers.Conv2D(64, (3,3), activation='relu', padding='same'))\n",
        "    model.add(keras.layers.MaxPooling2D((2,2)))\n",
        "    model.add(keras.layers.Flatten())\n",
        "    model.add(keras.layers.Dropout(0.5))\n",
        "    model.add(keras.layers.Dense(10, activation='softmax'))\n",
        "    return model\n",
        "\n",
        "model = creat_model()    "
      ],
      "metadata": {
        "id": "CW-1dxzmBUYN"
      },
      "execution_count": 57,
      "outputs": []
    },
    {
      "cell_type": "code",
      "source": [
        "model.summary()"
      ],
      "metadata": {
        "colab": {
          "base_uri": "https://localhost:8080/"
        },
        "id": "M4OXCCfVCabz",
        "outputId": "5f2b59aa-149b-48d1-8a4d-655291703546"
      },
      "execution_count": 58,
      "outputs": [
        {
          "output_type": "stream",
          "name": "stdout",
          "text": [
            "Model: \"myFashionMNIST\"\n",
            "_________________________________________________________________\n",
            " Layer (type)                Output Shape              Param #   \n",
            "=================================================================\n",
            " conv2d_84 (Conv2D)          (None, 28, 28, 32)        320       \n",
            "                                                                 \n",
            " max_pooling2d_52 (MaxPoolin  (None, 14, 14, 32)       0         \n",
            " g2D)                                                            \n",
            "                                                                 \n",
            " conv2d_85 (Conv2D)          (None, 14, 14, 32)        9248      \n",
            "                                                                 \n",
            " max_pooling2d_53 (MaxPoolin  (None, 7, 7, 32)         0         \n",
            " g2D)                                                            \n",
            "                                                                 \n",
            " conv2d_86 (Conv2D)          (None, 7, 7, 64)          18496     \n",
            "                                                                 \n",
            " max_pooling2d_54 (MaxPoolin  (None, 3, 3, 64)         0         \n",
            " g2D)                                                            \n",
            "                                                                 \n",
            " flatten_11 (Flatten)        (None, 576)               0         \n",
            "                                                                 \n",
            " dropout_11 (Dropout)        (None, 576)               0         \n",
            "                                                                 \n",
            " dense_11 (Dense)            (None, 10)                5770      \n",
            "                                                                 \n",
            "=================================================================\n",
            "Total params: 33,834\n",
            "Trainable params: 33,834\n",
            "Non-trainable params: 0\n",
            "_________________________________________________________________\n"
          ]
        }
      ]
    },
    {
      "cell_type": "code",
      "source": [
        "opt = keras.optimizers.Adam(learning_rate=0.001)\n",
        "model.compile(optimizer=opt, loss='categorical_crossentropy', metrics=['acc'])"
      ],
      "metadata": {
        "id": "xYcSIRudCcvQ"
      },
      "execution_count": 59,
      "outputs": []
    },
    {
      "cell_type": "code",
      "source": [
        "batch_size = 32           # @param\n",
        "epochs  = 100             # @param \n",
        "validation_split = 0.2    # @param\n",
        "\n",
        "es = keras.callbacks.EarlyStopping(monitor='val_loss',\n",
        "                                   patience=3,\n",
        "                                   verbose=1\n",
        "                                )\n",
        "\n",
        "history = model.fit(x=train_images,\n",
        "                    y=train_labels,\n",
        "                    batch_size=batch_size,\n",
        "                    epochs=epochs,\n",
        "                    validation_split=validation_split,\n",
        "                    callbacks=[es]\n",
        "                )  \n"
      ],
      "metadata": {
        "id": "bt9Xqr9xCgob",
        "colab": {
          "base_uri": "https://localhost:8080/"
        },
        "outputId": "2eb063a6-96f7-41fa-9a56-2a7683a31ae2"
      },
      "execution_count": 60,
      "outputs": [
        {
          "output_type": "stream",
          "name": "stdout",
          "text": [
            "Epoch 1/100\n",
            "1500/1500 [==============================] - 11s 7ms/step - loss: 0.6229 - acc: 0.7727 - val_loss: 0.3914 - val_acc: 0.8593\n",
            "Epoch 2/100\n",
            "1500/1500 [==============================] - 10s 7ms/step - loss: 0.4066 - acc: 0.8521 - val_loss: 0.3556 - val_acc: 0.8683\n",
            "Epoch 3/100\n",
            "1500/1500 [==============================] - 10s 7ms/step - loss: 0.3629 - acc: 0.8684 - val_loss: 0.2974 - val_acc: 0.8873\n",
            "Epoch 4/100\n",
            "1500/1500 [==============================] - 11s 7ms/step - loss: 0.3323 - acc: 0.8795 - val_loss: 0.2861 - val_acc: 0.8932\n",
            "Epoch 5/100\n",
            "1500/1500 [==============================] - 10s 7ms/step - loss: 0.3104 - acc: 0.8866 - val_loss: 0.2635 - val_acc: 0.9032\n",
            "Epoch 6/100\n",
            "1500/1500 [==============================] - 11s 7ms/step - loss: 0.2977 - acc: 0.8900 - val_loss: 0.2681 - val_acc: 0.8999\n",
            "Epoch 7/100\n",
            "1500/1500 [==============================] - 10s 7ms/step - loss: 0.2822 - acc: 0.8982 - val_loss: 0.2525 - val_acc: 0.9060\n",
            "Epoch 8/100\n",
            "1500/1500 [==============================] - 11s 7ms/step - loss: 0.2730 - acc: 0.9003 - val_loss: 0.2539 - val_acc: 0.9066\n",
            "Epoch 9/100\n",
            "1500/1500 [==============================] - 10s 7ms/step - loss: 0.2631 - acc: 0.9028 - val_loss: 0.2462 - val_acc: 0.9093\n",
            "Epoch 10/100\n",
            "1500/1500 [==============================] - 11s 7ms/step - loss: 0.2585 - acc: 0.9069 - val_loss: 0.2408 - val_acc: 0.9123\n",
            "Epoch 11/100\n",
            "1500/1500 [==============================] - 11s 7ms/step - loss: 0.2471 - acc: 0.9098 - val_loss: 0.2451 - val_acc: 0.9112\n",
            "Epoch 12/100\n",
            "1500/1500 [==============================] - 10s 7ms/step - loss: 0.2416 - acc: 0.9107 - val_loss: 0.2326 - val_acc: 0.9153\n",
            "Epoch 13/100\n",
            "1500/1500 [==============================] - 10s 7ms/step - loss: 0.2379 - acc: 0.9128 - val_loss: 0.2315 - val_acc: 0.9172\n",
            "Epoch 14/100\n",
            "1500/1500 [==============================] - 11s 7ms/step - loss: 0.2298 - acc: 0.9171 - val_loss: 0.2325 - val_acc: 0.9128\n",
            "Epoch 15/100\n",
            "1500/1500 [==============================] - 11s 7ms/step - loss: 0.2273 - acc: 0.9162 - val_loss: 0.2237 - val_acc: 0.9187\n",
            "Epoch 16/100\n",
            "1500/1500 [==============================] - 11s 7ms/step - loss: 0.2253 - acc: 0.9171 - val_loss: 0.2268 - val_acc: 0.9170\n",
            "Epoch 17/100\n",
            "1500/1500 [==============================] - 11s 7ms/step - loss: 0.2188 - acc: 0.9187 - val_loss: 0.2218 - val_acc: 0.9182\n",
            "Epoch 18/100\n",
            "1500/1500 [==============================] - 10s 7ms/step - loss: 0.2154 - acc: 0.9209 - val_loss: 0.2195 - val_acc: 0.9190\n",
            "Epoch 19/100\n",
            "1500/1500 [==============================] - 10s 7ms/step - loss: 0.2101 - acc: 0.9233 - val_loss: 0.2184 - val_acc: 0.9207\n",
            "Epoch 20/100\n",
            "1500/1500 [==============================] - 11s 7ms/step - loss: 0.2075 - acc: 0.9234 - val_loss: 0.2237 - val_acc: 0.9184\n",
            "Epoch 21/100\n",
            "1500/1500 [==============================] - 11s 7ms/step - loss: 0.2063 - acc: 0.9253 - val_loss: 0.2223 - val_acc: 0.9188\n",
            "Epoch 22/100\n",
            "1500/1500 [==============================] - 11s 7ms/step - loss: 0.2030 - acc: 0.9243 - val_loss: 0.2231 - val_acc: 0.9198\n",
            "Epoch 00022: early stopping\n"
          ]
        }
      ]
    },
    {
      "cell_type": "code",
      "source": [
        "plt.figure(figsize=(12, 5))\n",
        "plt.subplot(1,2,1)\n",
        "plt.plot(history.history['acc'], label='acc')\n",
        "plt.plot(history.history['val_acc'], label='val_acc')\n",
        "plt.legend(loc='lower right')\n",
        "\n",
        "plt.subplot(1,2,2)\n",
        "plt.plot(history.history['loss'], label='loss')\n",
        "plt.plot(history.history['val_loss'], label='val_loss')\n",
        "plt.legend(loc='best')\n",
        "plt.show()"
      ],
      "metadata": {
        "id": "BM6QiVOLCmtt",
        "colab": {
          "base_uri": "https://localhost:8080/",
          "height": 320
        },
        "outputId": "3a6d290d-1a79-4c52-fa2c-84db700090ee"
      },
      "execution_count": 61,
      "outputs": [
        {
          "output_type": "display_data",
          "data": {
            "image/png": "[encoded data removed]",
            "text/plain": [
              "<Figure size 864x360 with 2 Axes>"
            ]
          },
          "metadata": {
            "needs_background": "light"
          }
        }
      ]
    },
    {
      "cell_type": "code",
      "source": [
        "model.evaluate(test_images, test_labels)"
      ],
      "metadata": {
        "colab": {
          "base_uri": "https://localhost:8080/"
        },
        "id": "4eDx7RXYf3ry",
        "outputId": "654f689a-63fd-4e14-8f0f-ab47ce1f698f"
      },
      "execution_count": 62,
      "outputs": [
        {
          "output_type": "stream",
          "name": "stdout",
          "text": [
            "313/313 [==============================] - 2s 5ms/step - loss: 0.2434 - acc: 0.9150\n"
          ]
        },
        {
          "output_type": "execute_result",
          "data": {
            "text/plain": [
              "[0.243356853723526, 0.9150000214576721]"
            ]
          },
          "metadata": {},
          "execution_count": 62
        }
      ]
    },
    {
      "cell_type": "code",
      "source": [
        ""
      ],
      "metadata": {
        "id": "-li7Zb5HklrH"
      },
      "execution_count": null,
      "outputs": []
    }
  ]
}