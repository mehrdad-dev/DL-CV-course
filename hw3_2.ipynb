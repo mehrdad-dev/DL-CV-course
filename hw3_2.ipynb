{
  "nbformat": 4,
  "nbformat_minor": 0,
  "metadata": {
    "colab": {
      "name": "hw3_2.ipynb",
      "provenance": []
    },
    "kernelspec": {
      "name": "python3",
      "display_name": "Python 3"
    },
    "language_info": {
      "name": "python"
    }
  },
  "cells": [
    {
      "cell_type": "code",
      "execution_count": null,
      "metadata": {
        "id": "mDD3jyeqwSGX"
      },
      "outputs": [],
      "source": [
        "!wget https://raw.githubusercontent.com/Alireza-Akhavan/SRU-deeplearning-workshop/master/dataset.py\n",
        "!mkdir dataset\n",
        "!wget https://github.com/Alireza-Akhavan/SRU-deeplearning-workshop/raw/master/dataset/Data_hoda_full.mat -P dataset"
      ]
    },
    {
      "cell_type": "code",
      "source": [
        "from tensorflow import keras\n",
        "from tensorflow.keras import layers\n",
        "from tensorflow.keras.models import Sequential\n",
        "from tensorflow.keras.layers import Dense, Dropout, Activation\n",
        "from tensorflow.keras.callbacks import TensorBoard\n",
        "import numpy as np\n",
        "from dataset import load_hoda\n",
        "import matplotlib.pyplot as plt\n",
        "np.random.seed(123)"
      ],
      "metadata": {
        "id": "Bwk2Mz88wSGc"
      },
      "execution_count": 4,
      "outputs": []
    },
    {
      "cell_type": "code",
      "source": [
        "x_train_original, y_train_original, x_test_original, y_test_original = load_hoda(\n",
        "                                                                        training_sample_size=3500,\n",
        "                                                                        test_sample_size=400,size=28)\n",
        "\n",
        "x_train = np.array(x_train_original)\n",
        "x_test = np.array(x_test_original)\n",
        "x_train = x_train.astype('float32')\n",
        "x_test = x_test.astype('float32')\n",
        "x_train /= 255\n",
        "x_test /= 255\n",
        "\n",
        "x_train = x_train.reshape(-1,28,28,1)\n",
        "x_test = x_test.reshape(-1,28,28,1)\n",
        "\n",
        "y_train = keras.utils.to_categorical(y_train_original, num_classes=10)\n",
        "y_test = keras.utils.to_categorical(y_test_original, num_classes=10)\n",
        "\n",
        "x_val = x_test[:200]\n",
        "x_test = x_test[200:]\n",
        "y_val = y_test[:200]\n",
        "y_test = y_test[200:]"
      ],
      "metadata": {
        "id": "qcqavZ4lwSGd"
      },
      "execution_count": 5,
      "outputs": []
    },
    {
      "cell_type": "code",
      "source": [
        "model = Sequential()\n",
        "model.add(layers.Conv2D(32, (3, 3), activation='relu',\n",
        "                        input_shape=(28, 28, 1)))\n",
        "model.add(layers.MaxPooling2D((2, 2)))\n",
        "model.add(layers.Conv2D(64, (3, 3), activation='relu'))\n",
        "model.add(layers.MaxPooling2D((2, 2)))\n",
        "model.add(layers.Conv2D(64, (3, 3), activation='relu'))\n",
        "model.add(layers.Flatten())\n",
        "model.add(layers.Dense(64, activation='relu'))\n",
        "model.add(Dropout(0.5))\n",
        "model.add(layers.Dense(10, activation='softmax'))\n",
        "model.compile(loss='categorical_crossentropy',\n",
        "              optimizer='adam',\n",
        "              metrics=['accuracy'])"
      ],
      "metadata": {
        "id": "-iisJ7DAwSGf"
      },
      "execution_count": 6,
      "outputs": []
    },
    {
      "cell_type": "code",
      "source": [
        "from learningratefinder import LearningRateFinder"
      ],
      "metadata": {
        "id": "C8BhCBY5yMRt"
      },
      "execution_count": 7,
      "outputs": []
    },
    {
      "cell_type": "code",
      "source": [
        "lr_finder = LearningRateFinder(model)\n",
        "lr_finder.find((x_train, y_train),1e-10, 1e+1)\n",
        "lr_finder.plot_loss()"
      ],
      "metadata": {
        "colab": {
          "base_uri": "https://localhost:8080/",
          "height": 827
        },
        "id": "c47_Grm1yV3r",
        "outputId": "e9bcb480-2e97-450a-b99a-29393fbaf36c"
      },
      "execution_count": 8,
      "outputs": [
        {
          "output_type": "stream",
          "name": "stdout",
          "text": [
            "Epoch 1/19\n",
            "110/110 [==============================] - 5s 33ms/step - loss: 2.3047 - accuracy: 0.1106\n",
            "Epoch 2/19\n",
            "110/110 [==============================] - 4s 32ms/step - loss: 2.3070 - accuracy: 0.1129\n",
            "Epoch 3/19\n",
            "110/110 [==============================] - 4s 32ms/step - loss: 2.3060 - accuracy: 0.1083\n",
            "Epoch 4/19\n",
            "110/110 [==============================] - 4s 32ms/step - loss: 2.3073 - accuracy: 0.1074\n",
            "Epoch 5/19\n",
            "110/110 [==============================] - 4s 32ms/step - loss: 2.3037 - accuracy: 0.1080\n",
            "Epoch 6/19\n",
            "110/110 [==============================] - 4s 33ms/step - loss: 2.3049 - accuracy: 0.1117\n",
            "Epoch 7/19\n",
            "110/110 [==============================] - 4s 33ms/step - loss: 2.3046 - accuracy: 0.0977\n",
            "Epoch 8/19\n",
            "110/110 [==============================] - 4s 33ms/step - loss: 2.3015 - accuracy: 0.1097\n",
            "Epoch 9/19\n",
            "110/110 [==============================] - 4s 33ms/step - loss: 2.2850 - accuracy: 0.1423\n",
            "Epoch 10/19\n",
            "110/110 [==============================] - 4s 34ms/step - loss: 2.2163 - accuracy: 0.2231\n",
            "Epoch 11/19\n",
            "110/110 [==============================] - 4s 34ms/step - loss: 1.5427 - accuracy: 0.4943\n",
            "Epoch 12/19\n",
            "110/110 [==============================] - 4s 33ms/step - loss: 0.6573 - accuracy: 0.7774\n",
            "Epoch 13/19\n",
            "110/110 [==============================] - 4s 33ms/step - loss: 0.4097 - accuracy: 0.8634\n",
            "Epoch 14/19\n",
            "110/110 [==============================] - 4s 33ms/step - loss: 0.4272 - accuracy: 0.8737\n",
            "Epoch 15/19\n",
            "110/110 [==============================] - 4s 32ms/step - loss: 1.1168 - accuracy: 0.6886\n",
            "Epoch 16/19\n",
            "110/110 [==============================] - 1s 10ms/step - loss: 2.9200 - accuracy: 0.2839\n"
          ]
        },
        {
          "output_type": "display_data",
          "data": {
            "image/png": "[encoded data removed]",
            "text/plain": [
              "<Figure size 432x288 with 1 Axes>"
            ]
          },
          "metadata": {
            "needs_background": "light"
          }
        }
      ]
    },
    {
      "cell_type": "markdown",
      "source": [
        "# In my opinion best learning rate is between $10^{-4}$ and  $10^{-3}$"
      ],
      "metadata": {
        "id": "Rqpck_KZ0Hbi"
      }
    },
    {
      "cell_type": "code",
      "source": [
        "from tensorflow.keras.optimizers import Adam\n",
        "model = Sequential()\n",
        "model.add(layers.Conv2D(32, (3, 3), activation='relu',\n",
        "                        input_shape=(28, 28, 1)))\n",
        "model.add(layers.MaxPooling2D((2, 2)))\n",
        "model.add(layers.Conv2D(64, (3, 3), activation='relu'))\n",
        "model.add(layers.MaxPooling2D((2, 2)))\n",
        "model.add(layers.Conv2D(64, (3, 3), activation='relu'))\n",
        "model.add(layers.Flatten())\n",
        "model.add(layers.Dense(64, activation='relu'))\n",
        "model.add(Dropout(0.5))\n",
        "model.add(layers.Dense(10, activation='softmax'))\n",
        "model.compile(loss='categorical_crossentropy',\n",
        "              optimizer=Adam(learning_rate=0.0001),\n",
        "              metrics=['accuracy'])\n",
        "model.fit(x_train, y_train, epochs=30, batch_size=32, validation_data = (x_val, y_val))"
      ],
      "metadata": {
        "colab": {
          "base_uri": "https://localhost:8080/"
        },
        "id": "PlcwUX18yiKt",
        "outputId": "ae49a16b-3565-4512-b3f0-fe04755b9691"
      },
      "execution_count": 12,
      "outputs": [
        {
          "output_type": "stream",
          "name": "stdout",
          "text": [
            "Epoch 1/30\n",
            "110/110 [==============================] - 6s 50ms/step - loss: 2.1284 - accuracy: 0.3046 - val_loss: 1.7443 - val_accuracy: 0.7450\n",
            "Epoch 2/30\n",
            "110/110 [==============================] - 4s 33ms/step - loss: 1.3580 - accuracy: 0.5926 - val_loss: 0.7586 - val_accuracy: 0.8300\n",
            "Epoch 3/30\n",
            "110/110 [==============================] - 4s 33ms/step - loss: 0.9206 - accuracy: 0.7017 - val_loss: 0.4931 - val_accuracy: 0.8850\n",
            "Epoch 4/30\n",
            "110/110 [==============================] - 4s 33ms/step - loss: 0.7493 - accuracy: 0.7506 - val_loss: 0.3852 - val_accuracy: 0.8900\n",
            "Epoch 5/30\n",
            "110/110 [==============================] - 4s 34ms/step - loss: 0.6547 - accuracy: 0.7777 - val_loss: 0.3406 - val_accuracy: 0.9000\n",
            "Epoch 6/30\n",
            "110/110 [==============================] - 4s 33ms/step - loss: 0.5601 - accuracy: 0.8191 - val_loss: 0.2867 - val_accuracy: 0.9250\n",
            "Epoch 7/30\n",
            "110/110 [==============================] - 4s 34ms/step - loss: 0.5019 - accuracy: 0.8357 - val_loss: 0.2613 - val_accuracy: 0.9400\n",
            "Epoch 8/30\n",
            "110/110 [==============================] - 4s 33ms/step - loss: 0.4626 - accuracy: 0.8480 - val_loss: 0.2289 - val_accuracy: 0.9450\n",
            "Epoch 9/30\n",
            "110/110 [==============================] - 4s 33ms/step - loss: 0.4268 - accuracy: 0.8560 - val_loss: 0.2305 - val_accuracy: 0.9250\n",
            "Epoch 10/30\n",
            "110/110 [==============================] - 4s 33ms/step - loss: 0.3922 - accuracy: 0.8754 - val_loss: 0.1983 - val_accuracy: 0.9350\n",
            "Epoch 11/30\n",
            "110/110 [==============================] - 4s 33ms/step - loss: 0.3758 - accuracy: 0.8803 - val_loss: 0.1925 - val_accuracy: 0.9600\n",
            "Epoch 12/30\n",
            "110/110 [==============================] - 4s 34ms/step - loss: 0.3511 - accuracy: 0.8797 - val_loss: 0.1926 - val_accuracy: 0.9500\n",
            "Epoch 13/30\n",
            "110/110 [==============================] - 4s 34ms/step - loss: 0.3452 - accuracy: 0.8843 - val_loss: 0.1817 - val_accuracy: 0.9500\n",
            "Epoch 14/30\n",
            "110/110 [==============================] - 4s 35ms/step - loss: 0.2965 - accuracy: 0.9069 - val_loss: 0.1880 - val_accuracy: 0.9300\n",
            "Epoch 15/30\n",
            "110/110 [==============================] - 4s 35ms/step - loss: 0.2998 - accuracy: 0.8989 - val_loss: 0.1631 - val_accuracy: 0.9600\n",
            "Epoch 16/30\n",
            "110/110 [==============================] - 4s 34ms/step - loss: 0.2796 - accuracy: 0.9063 - val_loss: 0.1515 - val_accuracy: 0.9750\n",
            "Epoch 17/30\n",
            "110/110 [==============================] - 4s 34ms/step - loss: 0.2603 - accuracy: 0.9166 - val_loss: 0.1478 - val_accuracy: 0.9650\n",
            "Epoch 18/30\n",
            "110/110 [==============================] - 4s 35ms/step - loss: 0.2515 - accuracy: 0.9206 - val_loss: 0.1522 - val_accuracy: 0.9500\n",
            "Epoch 19/30\n",
            "110/110 [==============================] - 4s 40ms/step - loss: 0.2485 - accuracy: 0.9166 - val_loss: 0.1372 - val_accuracy: 0.9650\n",
            "Epoch 20/30\n",
            "110/110 [==============================] - 4s 34ms/step - loss: 0.2340 - accuracy: 0.9257 - val_loss: 0.1446 - val_accuracy: 0.9650\n",
            "Epoch 21/30\n",
            "110/110 [==============================] - 4s 33ms/step - loss: 0.2170 - accuracy: 0.9309 - val_loss: 0.1348 - val_accuracy: 0.9650\n",
            "Epoch 22/30\n",
            "110/110 [==============================] - 4s 34ms/step - loss: 0.2072 - accuracy: 0.9280 - val_loss: 0.1301 - val_accuracy: 0.9700\n",
            "Epoch 23/30\n",
            "110/110 [==============================] - 5s 41ms/step - loss: 0.2086 - accuracy: 0.9297 - val_loss: 0.1289 - val_accuracy: 0.9650\n",
            "Epoch 24/30\n",
            "110/110 [==============================] - 4s 33ms/step - loss: 0.2100 - accuracy: 0.9314 - val_loss: 0.1221 - val_accuracy: 0.9800\n",
            "Epoch 25/30\n",
            "110/110 [==============================] - 4s 33ms/step - loss: 0.1958 - accuracy: 0.9346 - val_loss: 0.1330 - val_accuracy: 0.9650\n",
            "Epoch 26/30\n",
            "110/110 [==============================] - 4s 33ms/step - loss: 0.1886 - accuracy: 0.9357 - val_loss: 0.1195 - val_accuracy: 0.9750\n",
            "Epoch 27/30\n",
            "110/110 [==============================] - 4s 34ms/step - loss: 0.1694 - accuracy: 0.9469 - val_loss: 0.1174 - val_accuracy: 0.9750\n",
            "Epoch 28/30\n",
            "110/110 [==============================] - 4s 34ms/step - loss: 0.1690 - accuracy: 0.9480 - val_loss: 0.1220 - val_accuracy: 0.9650\n",
            "Epoch 29/30\n",
            "110/110 [==============================] - 4s 33ms/step - loss: 0.1703 - accuracy: 0.9434 - val_loss: 0.1162 - val_accuracy: 0.9700\n",
            "Epoch 30/30\n",
            "110/110 [==============================] - 4s 33ms/step - loss: 0.1660 - accuracy: 0.9489 - val_loss: 0.1253 - val_accuracy: 0.9600\n"
          ]
        },
        {
          "output_type": "execute_result",
          "data": {
            "text/plain": [
              "<keras.callbacks.History at 0x7f1f9c722c50>"
            ]
          },
          "metadata": {},
          "execution_count": 12
        }
      ]
    },
    {
      "cell_type": "code",
      "source": [
        ""
      ],
      "metadata": {
        "id": "lemAcuOZ1p22"
      },
      "execution_count": null,
      "outputs": []
    }
  ]
}