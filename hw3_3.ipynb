{
  "nbformat": 4,
  "nbformat_minor": 2,
  "metadata": {
    "colab": {
      "name": "hw3_3.ipynb",
      "provenance": [],
      "collapsed_sections": [
        "OOqCeIFf7oFN"
      ]
    },
    "kernelspec": {
      "name": "python3",
      "display_name": "Python 3"
    },
    "language_info": {
      "name": "python"
    }
  },
  "cells": [
    {
      "cell_type": "markdown",
      "source": [
        "# Expand it, if you want"
      ],
      "metadata": {
        "id": "OOqCeIFf7oFN"
      }
    },
    {
      "cell_type": "code",
      "execution_count": null,
      "source": [
        "!wget https://raw.githubusercontent.com/Alireza-Akhavan/SRU-deeplearning-workshop/master/dataset.py\n",
        "!mkdir dataset\n",
        "!wget https://github.com/Alireza-Akhavan/SRU-deeplearning-workshop/raw/master/dataset/Data_hoda_full.mat -P dataset"
      ],
      "outputs": [],
      "metadata": {
        "id": "mDD3jyeqwSGX"
      }
    },
    {
      "cell_type": "code",
      "execution_count": 7,
      "source": [
        "from tensorflow import keras\n",
        "import tensorflow as tf\n",
        "from tensorflow.keras import layers\n",
        "from tensorflow.keras.models import Sequential\n",
        "from tensorflow.keras.layers import Dense, Dropout, Activation\n",
        "from tensorflow.keras.callbacks import TensorBoard, Callback\n",
        "import numpy as np\n",
        "from dataset import load_hoda\n",
        "import matplotlib.pyplot as plt\n",
        "np.random.seed(123)"
      ],
      "outputs": [],
      "metadata": {
        "id": "Bwk2Mz88wSGc"
      }
    },
    {
      "cell_type": "code",
      "execution_count": 4,
      "source": [
        "x_train_original, y_train_original, x_test_original, y_test_original = load_hoda(\n",
        "                                                                        training_sample_size=3500,\n",
        "                                                                        test_sample_size=400,size=28)\n",
        "\n",
        "x_train = np.array(x_train_original)\n",
        "x_test = np.array(x_test_original)\n",
        "x_train = x_train.astype('float32')\n",
        "x_test = x_test.astype('float32')\n",
        "x_train /= 255\n",
        "x_test /= 255\n",
        "\n",
        "x_train = x_train.reshape(-1,28,28,1)\n",
        "x_test = x_test.reshape(-1,28,28,1)\n",
        "\n",
        "y_train = keras.utils.to_categorical(y_train_original, num_classes=10)\n",
        "y_test = keras.utils.to_categorical(y_test_original, num_classes=10)\n",
        "\n",
        "x_val = x_test[:200]\n",
        "x_test = x_test[200:]\n",
        "y_val = y_test[:200]\n",
        "y_test = y_test[200:]"
      ],
      "outputs": [],
      "metadata": {
        "id": "qcqavZ4lwSGd"
      }
    },
    {
      "cell_type": "code",
      "execution_count": 5,
      "source": [
        "from tensorflow.keras.optimizers import Adam\n",
        "model = Sequential()\n",
        "model.add(layers.Conv2D(32, (3, 3), activation='relu',\n",
        "                        input_shape=(28, 28, 1)))\n",
        "model.add(layers.MaxPooling2D((2, 2)))\n",
        "model.add(layers.Conv2D(64, (3, 3), activation='relu'))\n",
        "model.add(layers.MaxPooling2D((2, 2)))\n",
        "model.add(layers.Conv2D(64, (3, 3), activation='relu'))\n",
        "model.add(layers.Flatten())\n",
        "model.add(layers.Dense(64, activation='relu'))\n",
        "model.add(Dropout(0.5))\n",
        "model.add(layers.Dense(10, activation='softmax'))\n",
        "model.compile(loss='categorical_crossentropy',\n",
        "              optimizer=Adam(learning_rate=0.00001),\n",
        "              metrics=['accuracy'])"
      ],
      "outputs": [],
      "metadata": {
        "id": "UUDmuybS5Fpv"
      }
    },
    {
      "cell_type": "markdown",
      "source": [
        "# Write Callback"
      ],
      "metadata": {
        "id": "GoILb5tz7kCo"
      }
    },
    {
      "cell_type": "code",
      "execution_count": 27,
      "source": [
        "class AccControl(Callback):\n",
        "    def __init__(self, persent=90, verbose=False):\n",
        "        super(AccControl, self).__init__()\n",
        "        self.persent = persent\n",
        "        self.verbose = verbose\n",
        "\n",
        "    def on_epoch_end(self, epoch, logs=None):\n",
        "        if logs.get('val_accuracy') >= 0.7:\n",
        "            self.model.stop_training = True\n",
        "        if self.verbose:\n",
        "            val_loss = logs.get('val_loss')\n",
        "            print(f'\\n\\n[Training Stop]   Accuracy reach 70% in epoch {epoch} with validation loss {val_loss:.3f}\\n\\n')\n",
        "            \n",
        "\n",
        "acc_control = AccControl(persent=70, verbose=True)\n",
        "model.fit(x_train, y_train, epochs=30, batch_size=32, validation_data = (x_val, y_val), callbacks=[acc_control], verbose=1)"
      ],
      "outputs": [
        {
          "output_type": "stream",
          "name": "stdout",
          "text": [
            "Epoch 1/30\n",
            "108/110 [============================>.] - ETA: 0s - loss: 0.9810 - accuracy: 0.6918\n",
            "\n",
            "[Training Stop]   Accuracy reach 70% in epoch 0 with validation loss 0.662\n",
            "\n",
            "\n",
            "110/110 [==============================] - 5s 45ms/step - loss: 0.9784 - accuracy: 0.6920 - val_loss: 0.6616 - val_accuracy: 0.8950\n"
          ]
        },
        {
          "output_type": "execute_result",
          "data": {
            "text/plain": [
              "<keras.callbacks.History at 0x7f2c00da0290>"
            ]
          },
          "metadata": {},
          "execution_count": 27
        }
      ],
      "metadata": {
        "colab": {
          "base_uri": "https://localhost:8080/"
        },
        "id": "PlcwUX18yiKt",
        "outputId": "4d60fd54-cba6-431e-cfe5-a4e2ae8ed61f"
      }
    },
    {
      "cell_type": "code",
      "execution_count": null,
      "source": [],
      "outputs": [],
      "metadata": {
        "id": "tRUzOXqF5vfG"
      }
    }
  ]
}