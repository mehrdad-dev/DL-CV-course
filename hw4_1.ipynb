{
  "nbformat": 4,
  "nbformat_minor": 0,
  "metadata": {
    "colab": {
      "name": "hw4_1.ipynb",
      "provenance": [],
      "collapsed_sections": []
    },
    "kernelspec": {
      "name": "python3",
      "display_name": "Python 3"
    },
    "language_info": {
      "name": "python"
    }
  },
  "cells": [
    {
      "cell_type": "code",
      "execution_count": 34,
      "metadata": {
        "id": "kXdafA95lG0X"
      },
      "outputs": [],
      "source": [
        "from tensorflow.keras.applications.mobilenet_v2 import MobileNetV2, preprocess_input, decode_predictions\n",
        "from tensorflow.keras.preprocessing.image import load_img, img_to_array\n",
        "import cv2\n",
        "from google.colab.patches import cv2_imshow\n",
        "from IPython.display import display, clear_output"
      ]
    },
    {
      "cell_type": "code",
      "source": [
        "input_shape = (224,224,3) \n",
        "model = MobileNetV2(input_shape, include_top=True, weights='imagenet')"
      ],
      "metadata": {
        "id": "U8w_BOyLnj4P"
      },
      "execution_count": 35,
      "outputs": []
    },
    {
      "cell_type": "code",
      "source": [
        "def predict(model, img):\n",
        "    img = img.reshape(-1,224,224,3)\n",
        "    img = preprocess_input(img)\n",
        "    preds = model.predict(img)\n",
        "    return decode_predictions(preds, top=1)[0][0][1]"
      ],
      "metadata": {
        "id": "MFwcRujsSPRQ"
      },
      "execution_count": 36,
      "outputs": []
    },
    {
      "cell_type": "code",
      "source": [
        "cap = cv2.VideoCapture('/content/Pexels Videos 1182756.mp4')\n",
        "while True:\n",
        "    _, frame = cap.read()\n",
        "    image = cv2.resize(frame, (224, 224))\n",
        "    class_pred = predict(model, image)\n",
        "    cv2.putText(image, class_pred, (10,15), cv2.FONT_HERSHEY_SIMPLEX, 0.6, (225,225,225))\n",
        "    cv2_imshow(image)\n",
        "    clear_output(wait=True)\n",
        "    if cv2.waitKey(1) == 13:\n",
        "        break    \n",
        "cap.release()\n",
        "cv2.destroyAllWindows()     "
      ],
      "metadata": {
        "id": "5uLRSUBufLk9"
      },
      "execution_count": null,
      "outputs": []
    },
    {
      "cell_type": "code",
      "source": [
        ""
      ],
      "metadata": {
        "id": "4mBSI_OcpIO9"
      },
      "execution_count": null,
      "outputs": []
    }
  ]
}