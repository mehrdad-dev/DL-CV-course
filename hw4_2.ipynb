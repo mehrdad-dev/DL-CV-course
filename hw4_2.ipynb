{
  "nbformat": 4,
  "nbformat_minor": 0,
  "metadata": {
    "colab": {
      "name": "hw4_2.ipynb",
      "provenance": []
    },
    "kernelspec": {
      "name": "python3",
      "display_name": "Python 3"
    },
    "language_info": {
      "name": "python"
    }
  },
  "cells": [
    {
      "cell_type": "code",
      "source": [
        "from tensorflow.keras import utils\n",
        "from tensorflow.keras.layers import Rescaling, MaxPooling2D, Conv2D, Flatten, Dense, GlobalAveragePooling2D\n",
        "from tensorflow.keras.models import Sequential\n",
        "from tensorflow.keras import optimizers\n",
        "import tensorflow as tf"
      ],
      "metadata": {
        "id": "CT9tKShfuFKw"
      },
      "execution_count": 77,
      "outputs": []
    },
    {
      "cell_type": "code",
      "execution_count": 2,
      "metadata": {
        "colab": {
          "base_uri": "https://localhost:8080/"
        },
        "id": "Enl-V6OMtbd9",
        "outputId": "f9d42ec7-a42b-46c1-8228-4a1d79425d64"
      },
      "outputs": [
        {
          "output_type": "stream",
          "name": "stdout",
          "text": [
            "Downloading data from https://storage.googleapis.com/download.tensorflow.org/example_images/flower_photos.tgz\n",
            "228818944/228813984 [==============================] - 2s 0us/step\n",
            "228827136/228813984 [==============================] - 2s 0us/step\n"
          ]
        }
      ],
      "source": [
        "flowers_root = utils.get_file(\n",
        "    'flower_photos',\n",
        "    'https://storage.googleapis.com/download.tensorflow.org/example_images/flower_photos.tgz',\n",
        "    untar=True)"
      ]
    },
    {
      "cell_type": "code",
      "source": [
        "flowers_root"
      ],
      "metadata": {
        "colab": {
          "base_uri": "https://localhost:8080/",
          "height": 35
        },
        "id": "--o1Jp8YuJ6t",
        "outputId": "41287eba-b8a3-4214-ac10-fe13cc48b9a6"
      },
      "execution_count": 3,
      "outputs": [
        {
          "output_type": "execute_result",
          "data": {
            "application/vnd.google.colaboratory.intrinsic+json": {
              "type": "string"
            },
            "text/plain": [
              "'/root/.keras/datasets/flower_photos'"
            ]
          },
          "metadata": {},
          "execution_count": 3
        }
      ]
    },
    {
      "cell_type": "code",
      "source": [
        "train_ds = utils.image_dataset_from_directory(flowers_root, image_size=(150, 150))\n",
        "AUTOTUNE = tf.data.AUTOTUNE\n",
        "normalize = Rescaling(1./255)\n",
        "train_ds = train_ds.shuffle(700).prefetch(buffer_size=AUTOTUNE)"
      ],
      "metadata": {
        "colab": {
          "base_uri": "https://localhost:8080/"
        },
        "id": "62IDm4rfujpp",
        "outputId": "3c6687fc-425c-4186-a0b2-52f89350cf6b"
      },
      "execution_count": 78,
      "outputs": [
        {
          "output_type": "stream",
          "name": "stdout",
          "text": [
            "Found 3670 files belonging to 5 classes.\n"
          ]
        }
      ]
    },
    {
      "cell_type": "code",
      "source": [
        "from glob import glob\n",
        "import os\n",
        "for i in glob(os.path.join(flowers_root, '*')):\n",
        "    print(i)"
      ],
      "metadata": {
        "colab": {
          "base_uri": "https://localhost:8080/"
        },
        "id": "SKqUDvVavh-1",
        "outputId": "aa195749-a7b9-4dff-bdae-c4702af4b1e7"
      },
      "execution_count": 79,
      "outputs": [
        {
          "output_type": "stream",
          "name": "stdout",
          "text": [
            "/root/.keras/datasets/flower_photos/LICENSE.txt\n",
            "/root/.keras/datasets/flower_photos/dandelion\n",
            "/root/.keras/datasets/flower_photos/daisy\n",
            "/root/.keras/datasets/flower_photos/sunflowers\n",
            "/root/.keras/datasets/flower_photos/roses\n",
            "/root/.keras/datasets/flower_photos/tulips\n"
          ]
        }
      ]
    },
    {
      "cell_type": "code",
      "source": [
        "globavgpol = GlobalAveragePooling2D()\n",
        "\n",
        "model = Sequential()\n",
        "model.add(Conv2D(32, (3, 3), activation='relu',input_shape=(150, 150, 3)))\n",
        "model.add(MaxPooling2D((2, 2)))\n",
        "model.add(Conv2D(64, (3, 3), activation='relu'))\n",
        "model.add(MaxPooling2D((2, 2)))\n",
        "model.add(Conv2D(128, (3, 3), activation='relu'))\n",
        "model.add(Conv2D(128, (3, 3), activation='relu'))\n",
        "model.add(MaxPooling2D((2, 2)))\n",
        "model.add(GlobalAveragePooling2D())\n",
        "model.add(Dense(5, activation='softmax'))\n",
        "\n",
        "model.compile(loss='sparse_categorical_crossentropy', optimizer=optimizers.Adam(0.001), metrics=['acc'])"
      ],
      "metadata": {
        "id": "YUEOP3Pbu8Ti"
      },
      "execution_count": 80,
      "outputs": []
    },
    {
      "cell_type": "code",
      "source": [
        "history = model.fit(train_ds, epochs=30)"
      ],
      "metadata": {
        "colab": {
          "base_uri": "https://localhost:8080/"
        },
        "id": "Up05cMMWx5hX",
        "outputId": "e8ed81e5-2f34-4644-9939-1b7890bbe844"
      },
      "execution_count": 81,
      "outputs": [
        {
          "output_type": "stream",
          "name": "stdout",
          "text": [
            "Epoch 1/30\n",
            "115/115 [==============================] - 220s 2s/step - loss: 2.9421 - acc: 0.4281\n",
            "Epoch 2/30\n",
            "115/115 [==============================] - 219s 2s/step - loss: 1.0972 - acc: 0.5730\n",
            "Epoch 3/30\n",
            "115/115 [==============================] - 218s 2s/step - loss: 0.9904 - acc: 0.6196\n",
            "Epoch 4/30\n",
            "115/115 [==============================] - 220s 2s/step - loss: 0.9385 - acc: 0.6360\n",
            "Epoch 5/30\n",
            "115/115 [==============================] - 219s 2s/step - loss: 0.8187 - acc: 0.6866\n",
            "Epoch 6/30\n",
            "115/115 [==============================] - 220s 2s/step - loss: 0.7971 - acc: 0.7011\n",
            "Epoch 7/30\n",
            "115/115 [==============================] - 218s 2s/step - loss: 0.7416 - acc: 0.7172\n",
            "Epoch 8/30\n",
            "115/115 [==============================] - 216s 2s/step - loss: 0.7243 - acc: 0.7240\n",
            "Epoch 9/30\n",
            "115/115 [==============================] - 217s 2s/step - loss: 0.6702 - acc: 0.7493\n",
            "Epoch 10/30\n",
            "115/115 [==============================] - 218s 2s/step - loss: 0.6095 - acc: 0.7747\n",
            "Epoch 11/30\n",
            "115/115 [==============================] - 217s 2s/step - loss: 0.5809 - acc: 0.7790\n",
            "Epoch 12/30\n",
            "115/115 [==============================] - 217s 2s/step - loss: 0.5381 - acc: 0.8054\n",
            "Epoch 13/30\n",
            "115/115 [==============================] - 217s 2s/step - loss: 0.5595 - acc: 0.7951\n",
            "Epoch 14/30\n",
            "115/115 [==============================] - 217s 2s/step - loss: 0.5136 - acc: 0.8158\n",
            "Epoch 15/30\n",
            "115/115 [==============================] - 220s 2s/step - loss: 0.4711 - acc: 0.8272\n",
            "Epoch 16/30\n",
            "115/115 [==============================] - 221s 2s/step - loss: 0.4869 - acc: 0.8264\n",
            "Epoch 17/30\n",
            "115/115 [==============================] - 221s 2s/step - loss: 0.4354 - acc: 0.8390\n",
            "Epoch 18/30\n",
            "115/115 [==============================] - 220s 2s/step - loss: 0.3940 - acc: 0.8605\n",
            "Epoch 19/30\n",
            "115/115 [==============================] - 219s 2s/step - loss: 0.3678 - acc: 0.8722\n",
            "Epoch 20/30\n",
            "115/115 [==============================] - 220s 2s/step - loss: 0.3700 - acc: 0.8714\n",
            "Epoch 21/30\n",
            "115/115 [==============================] - 219s 2s/step - loss: 0.3385 - acc: 0.8812\n",
            "Epoch 22/30\n",
            "115/115 [==============================] - 220s 2s/step - loss: 0.2932 - acc: 0.8992\n",
            "Epoch 23/30\n",
            "115/115 [==============================] - 218s 2s/step - loss: 0.2761 - acc: 0.9030\n",
            "Epoch 24/30\n",
            "115/115 [==============================] - 218s 2s/step - loss: 0.2808 - acc: 0.8978\n",
            "Epoch 25/30\n",
            "115/115 [==============================] - 220s 2s/step - loss: 0.2608 - acc: 0.9114\n",
            "Epoch 26/30\n",
            "115/115 [==============================] - 219s 2s/step - loss: 0.2571 - acc: 0.9084\n",
            "Epoch 27/30\n",
            "115/115 [==============================] - 218s 2s/step - loss: 0.2172 - acc: 0.9218\n",
            "Epoch 28/30\n",
            "115/115 [==============================] - 219s 2s/step - loss: 0.1899 - acc: 0.9319\n",
            "Epoch 29/30\n",
            "115/115 [==============================] - 218s 2s/step - loss: 0.1836 - acc: 0.9360\n",
            "Epoch 30/30\n",
            "115/115 [==============================] - 216s 2s/step - loss: 0.1652 - acc: 0.9403\n"
          ]
        }
      ]
    },
    {
      "cell_type": "code",
      "source": [
        ""
      ],
      "metadata": {
        "id": "mE_rpbUOv2hJ"
      },
      "execution_count": null,
      "outputs": []
    }
  ]
}