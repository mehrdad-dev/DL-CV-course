{
  "nbformat": 4,
  "nbformat_minor": 2,
  "metadata": {
    "colab": {
      "name": "hw4_3.ipynb",
      "provenance": [],
      "collapsed_sections": []
    },
    "kernelspec": {
      "name": "python3",
      "display_name": "Python 3"
    },
    "language_info": {
      "name": "python"
    }
  },
  "cells": [
    {
      "cell_type": "code",
      "execution_count": null,
      "source": [
        "import tensorflow as tf\n",
        "from tensorflow.keras.utils import image_dataset_from_directory\n",
        "from tensorflow.keras.layers import Rescaling, MaxPooling2D, Conv2D, Flatten, Dense\n",
        "from tensorflow.keras.models import Sequential\n",
        "from tensorflow.keras import optimizers\n",
        "from tensorflow.keras.metrics import top_k_categorical_accuracy\n",
        "import os"
      ],
      "outputs": [],
      "metadata": {
        "id": "beDsf389kyzm"
      }
    },
    {
      "cell_type": "markdown",
      "source": [
        "# dataset"
      ],
      "metadata": {
        "id": "MgAW6FW630dO"
      }
    },
    {
      "cell_type": "code",
      "execution_count": null,
      "source": [
        "_URL = 'https://storage.googleapis.com/mledu-datasets/cats_and_dogs_filtered.zip'\n",
        "path_to_zip = tf.keras.utils.get_file('cats_and_dogs.zip', origin=_URL, extract=True)\n",
        "PATH = os.path.join(os.path.dirname(path_to_zip), 'cats_and_dogs_filtered')\n",
        "train_dir =  \"/root/.keras/datasets/cats_and_dogs_filtered/train\"\n",
        "validation_dir = \"/root/.keras/datasets/cats_and_dogs_filtered/validation\""
      ],
      "outputs": [],
      "metadata": {
        "id": "AXVwl8Tv--4y"
      }
    },
    {
      "cell_type": "markdown",
      "source": [
        "# tf.data"
      ],
      "metadata": {
        "id": "gmRA23NY3yCn"
      }
    },
    {
      "cell_type": "code",
      "execution_count": null,
      "source": [
        "train_ds = image_dataset_from_directory(\n",
        "    train_dir,\n",
        "    seed=123,\n",
        "    image_size=(150, 150),\n",
        "    batch_size=32,\n",
        ")\n",
        "\n",
        "val_ds = image_dataset_from_directory(\n",
        "    validation_dir,\n",
        "    seed=123,\n",
        "    image_size=(150, 150),\n",
        "    batch_size=32,\n",
        ")\n",
        "\n",
        "class_names = train_ds.class_names\n",
        "print(class_names)"
      ],
      "outputs": [
        {
          "output_type": "stream",
          "name": "stdout",
          "text": [
            "Found 2000 files belonging to 2 classes.\n",
            "Found 1000 files belonging to 2 classes.\n",
            "['cats', 'dogs']\n"
          ]
        }
      ],
      "metadata": {
        "colab": {
          "base_uri": "https://localhost:8080/"
        },
        "id": "U0TWJ1zZfh8_",
        "outputId": "2797e061-0b42-40ed-b5e0-f1625a41c619"
      }
    },
    {
      "cell_type": "code",
      "execution_count": null,
      "source": [
        "AUTOTUNE = tf.data.AUTOTUNE\n",
        "normalize = Rescaling(1./255)\n",
        "\n",
        "train_ds = train_ds.map(lambda image, label: (normalize(image), label))\n",
        "train_ds = train_ds.shuffle(700).prefetch(buffer_size=AUTOTUNE)\n",
        "val_ds = val_ds.map(lambda image, label: (normalize(image), label))\n",
        "val_ds   = val_ds.shuffle(700).prefetch(buffer_size=AUTOTUNE)"
      ],
      "outputs": [],
      "metadata": {
        "id": "E6nBrUgO_HwW"
      }
    },
    {
      "cell_type": "markdown",
      "source": [
        "# model"
      ],
      "metadata": {
        "id": "btqko4mN32QQ"
      }
    },
    {
      "cell_type": "code",
      "execution_count": null,
      "source": [
        "model = Sequential()\n",
        "model.add(Conv2D(32, (3, 3), activation='relu',input_shape=(150, 150, 3)))\n",
        "model.add(MaxPooling2D((2, 2)))\n",
        "model.add(Conv2D(64, (3, 3), activation='relu'))\n",
        "model.add(MaxPooling2D((2, 2)))\n",
        "model.add(Conv2D(128, (3, 3), activation='relu'))\n",
        "model.add(MaxPooling2D((2, 2)))\n",
        "model.add(Conv2D(128, (3, 3), activation='relu'))\n",
        "model.add(MaxPooling2D((2, 2)))\n",
        "model.add(Flatten())\n",
        "model.add(Dense(512, activation='relu'))\n",
        "model.add(Dense(1, activation='sigmoid'))\n",
        "\n",
        "def top_5_accuracy(in_gt, in_pred):\n",
        "    return top_k_categorical_accuracy(in_gt, in_pred, k=5)\n",
        "\n",
        "model.compile(loss='binary_crossentropy', optimizer=optimizers.Adam(0.0001), metrics=['acc', top_5_accuracy])"
      ],
      "outputs": [],
      "metadata": {
        "id": "2aKMteY2kHbC"
      }
    },
    {
      "cell_type": "code",
      "execution_count": null,
      "source": [
        "model.summary()"
      ],
      "outputs": [
        {
          "output_type": "stream",
          "name": "stdout",
          "text": [
            "Model: \"sequential_5\"\n",
            "_________________________________________________________________\n",
            " Layer (type)                Output Shape              Param #   \n",
            "=================================================================\n",
            " conv2d_20 (Conv2D)          (None, 148, 148, 32)      896       \n",
            "                                                                 \n",
            " max_pooling2d_20 (MaxPoolin  (None, 74, 74, 32)       0         \n",
            " g2D)                                                            \n",
            "                                                                 \n",
            " conv2d_21 (Conv2D)          (None, 72, 72, 64)        18496     \n",
            "                                                                 \n",
            " max_pooling2d_21 (MaxPoolin  (None, 36, 36, 64)       0         \n",
            " g2D)                                                            \n",
            "                                                                 \n",
            " conv2d_22 (Conv2D)          (None, 34, 34, 128)       73856     \n",
            "                                                                 \n",
            " max_pooling2d_22 (MaxPoolin  (None, 17, 17, 128)      0         \n",
            " g2D)                                                            \n",
            "                                                                 \n",
            " conv2d_23 (Conv2D)          (None, 15, 15, 128)       147584    \n",
            "                                                                 \n",
            " max_pooling2d_23 (MaxPoolin  (None, 7, 7, 128)        0         \n",
            " g2D)                                                            \n",
            "                                                                 \n",
            " flatten_5 (Flatten)         (None, 6272)              0         \n",
            "                                                                 \n",
            " dense_10 (Dense)            (None, 512)               3211776   \n",
            "                                                                 \n",
            " dense_11 (Dense)            (None, 1)                 513       \n",
            "                                                                 \n",
            "=================================================================\n",
            "Total params: 3,453,121\n",
            "Trainable params: 3,453,121\n",
            "Non-trainable params: 0\n",
            "_________________________________________________________________\n"
          ]
        }
      ],
      "metadata": {
        "colab": {
          "base_uri": "https://localhost:8080/"
        },
        "id": "Xn5gn2F8k7rk",
        "outputId": "32b3d405-2892-4222-e03d-115a3abd3d55"
      }
    },
    {
      "cell_type": "code",
      "execution_count": null,
      "source": [
        "history = model.fit(\n",
        "      train_ds,\n",
        "      epochs=30,\n",
        "      validation_data=val_ds\n",
        "    )"
      ],
      "outputs": [
        {
          "output_type": "stream",
          "name": "stdout",
          "text": [
            "Epoch 1/30\n",
            "63/63 [==============================] - 97s 1s/step - loss: 0.6959 - acc: 0.5030 - top_5_accuracy: 1.0000 - val_loss: 0.6902 - val_acc: 0.5260 - val_top_5_accuracy: 1.0000\n",
            "Epoch 2/30\n",
            "63/63 [==============================] - 97s 2s/step - loss: 0.6826 - acc: 0.5735 - top_5_accuracy: 1.0000 - val_loss: 0.6666 - val_acc: 0.6150 - val_top_5_accuracy: 1.0000\n",
            "Epoch 3/30\n",
            "63/63 [==============================] - 95s 1s/step - loss: 0.6619 - acc: 0.6025 - top_5_accuracy: 1.0000 - val_loss: 0.6577 - val_acc: 0.6400 - val_top_5_accuracy: 1.0000\n",
            "Epoch 4/30\n",
            "63/63 [==============================] - 97s 2s/step - loss: 0.6161 - acc: 0.6610 - top_5_accuracy: 1.0000 - val_loss: 0.6238 - val_acc: 0.6500 - val_top_5_accuracy: 1.0000\n",
            "Epoch 5/30\n",
            "63/63 [==============================] - 95s 1s/step - loss: 0.5846 - acc: 0.6980 - top_5_accuracy: 1.0000 - val_loss: 0.6020 - val_acc: 0.6500 - val_top_5_accuracy: 1.0000\n",
            "Epoch 6/30\n",
            "63/63 [==============================] - 95s 1s/step - loss: 0.5331 - acc: 0.7355 - top_5_accuracy: 1.0000 - val_loss: 0.6017 - val_acc: 0.6640 - val_top_5_accuracy: 1.0000\n",
            "Epoch 7/30\n",
            "63/63 [==============================] - 94s 1s/step - loss: 0.4853 - acc: 0.7770 - top_5_accuracy: 1.0000 - val_loss: 0.6626 - val_acc: 0.6740 - val_top_5_accuracy: 1.0000\n",
            "Epoch 8/30\n",
            "63/63 [==============================] - 95s 1s/step - loss: 0.4712 - acc: 0.7690 - top_5_accuracy: 1.0000 - val_loss: 0.5708 - val_acc: 0.7130 - val_top_5_accuracy: 1.0000\n",
            "Epoch 9/30\n",
            "63/63 [==============================] - 102s 2s/step - loss: 0.4180 - acc: 0.8125 - top_5_accuracy: 1.0000 - val_loss: 0.5896 - val_acc: 0.6970 - val_top_5_accuracy: 1.0000\n",
            "Epoch 10/30\n",
            "63/63 [==============================] - 103s 2s/step - loss: 0.3896 - acc: 0.8220 - top_5_accuracy: 1.0000 - val_loss: 0.5731 - val_acc: 0.7210 - val_top_5_accuracy: 1.0000\n",
            "Epoch 11/30\n",
            "63/63 [==============================] - 100s 2s/step - loss: 0.3543 - acc: 0.8465 - top_5_accuracy: 1.0000 - val_loss: 0.5483 - val_acc: 0.7380 - val_top_5_accuracy: 1.0000\n",
            "Epoch 12/30\n",
            "63/63 [==============================] - 98s 2s/step - loss: 0.3195 - acc: 0.8690 - top_5_accuracy: 1.0000 - val_loss: 0.5542 - val_acc: 0.7450 - val_top_5_accuracy: 1.0000\n",
            "Epoch 13/30\n",
            "63/63 [==============================] - 102s 2s/step - loss: 0.3059 - acc: 0.8700 - top_5_accuracy: 1.0000 - val_loss: 0.5522 - val_acc: 0.7490 - val_top_5_accuracy: 1.0000\n",
            "Epoch 14/30\n",
            "63/63 [==============================] - 97s 2s/step - loss: 0.2540 - acc: 0.9020 - top_5_accuracy: 1.0000 - val_loss: 0.5650 - val_acc: 0.7470 - val_top_5_accuracy: 1.0000\n",
            "Epoch 15/30\n",
            "63/63 [==============================] - 97s 2s/step - loss: 0.2392 - acc: 0.9085 - top_5_accuracy: 1.0000 - val_loss: 0.6042 - val_acc: 0.7340 - val_top_5_accuracy: 1.0000\n",
            "Epoch 16/30\n",
            "63/63 [==============================] - 98s 2s/step - loss: 0.2151 - acc: 0.9230 - top_5_accuracy: 1.0000 - val_loss: 0.6206 - val_acc: 0.7260 - val_top_5_accuracy: 1.0000\n",
            "Epoch 17/30\n",
            "63/63 [==============================] - 99s 2s/step - loss: 0.1747 - acc: 0.9440 - top_5_accuracy: 1.0000 - val_loss: 0.6020 - val_acc: 0.7420 - val_top_5_accuracy: 1.0000\n",
            "Epoch 18/30\n",
            "63/63 [==============================] - 99s 2s/step - loss: 0.1517 - acc: 0.9515 - top_5_accuracy: 1.0000 - val_loss: 0.6365 - val_acc: 0.7530 - val_top_5_accuracy: 1.0000\n",
            "Epoch 19/30\n",
            "63/63 [==============================] - 99s 2s/step - loss: 0.1275 - acc: 0.9610 - top_5_accuracy: 1.0000 - val_loss: 0.6655 - val_acc: 0.7500 - val_top_5_accuracy: 1.0000\n",
            "Epoch 20/30\n",
            "63/63 [==============================] - 98s 2s/step - loss: 0.1190 - acc: 0.9665 - top_5_accuracy: 1.0000 - val_loss: 0.6773 - val_acc: 0.7500 - val_top_5_accuracy: 1.0000\n",
            "Epoch 21/30\n",
            "63/63 [==============================] - 100s 2s/step - loss: 0.1021 - acc: 0.9675 - top_5_accuracy: 1.0000 - val_loss: 0.6855 - val_acc: 0.7360 - val_top_5_accuracy: 1.0000\n",
            "Epoch 22/30\n",
            "63/63 [==============================] - 99s 2s/step - loss: 0.0878 - acc: 0.9750 - top_5_accuracy: 1.0000 - val_loss: 0.6994 - val_acc: 0.7530 - val_top_5_accuracy: 1.0000\n",
            "Epoch 23/30\n",
            "63/63 [==============================] - 100s 2s/step - loss: 0.0585 - acc: 0.9900 - top_5_accuracy: 1.0000 - val_loss: 0.7783 - val_acc: 0.7490 - val_top_5_accuracy: 1.0000\n",
            "Epoch 24/30\n",
            "63/63 [==============================] - 103s 2s/step - loss: 0.0613 - acc: 0.9900 - top_5_accuracy: 1.0000 - val_loss: 0.7757 - val_acc: 0.7520 - val_top_5_accuracy: 1.0000\n",
            "Epoch 25/30\n",
            "63/63 [==============================] - 100s 2s/step - loss: 0.0450 - acc: 0.9920 - top_5_accuracy: 1.0000 - val_loss: 0.8073 - val_acc: 0.7540 - val_top_5_accuracy: 1.0000\n",
            "Epoch 26/30\n",
            "63/63 [==============================] - 100s 2s/step - loss: 0.0318 - acc: 0.9950 - top_5_accuracy: 1.0000 - val_loss: 0.8601 - val_acc: 0.7520 - val_top_5_accuracy: 1.0000\n",
            "Epoch 27/30\n",
            "63/63 [==============================] - 100s 2s/step - loss: 0.0232 - acc: 0.9990 - top_5_accuracy: 1.0000 - val_loss: 0.8818 - val_acc: 0.7510 - val_top_5_accuracy: 1.0000\n",
            "Epoch 28/30\n",
            "63/63 [==============================] - 100s 2s/step - loss: 0.0177 - acc: 0.9995 - top_5_accuracy: 1.0000 - val_loss: 0.9387 - val_acc: 0.7560 - val_top_5_accuracy: 1.0000\n",
            "Epoch 29/30\n",
            "63/63 [==============================] - 99s 2s/step - loss: 0.0154 - acc: 1.0000 - top_5_accuracy: 1.0000 - val_loss: 0.9505 - val_acc: 0.7510 - val_top_5_accuracy: 1.0000\n",
            "Epoch 30/30\n",
            "63/63 [==============================] - 100s 2s/step - loss: 0.0147 - acc: 0.9995 - top_5_accuracy: 1.0000 - val_loss: 1.0095 - val_acc: 0.7570 - val_top_5_accuracy: 1.0000\n"
          ]
        }
      ],
      "metadata": {
        "colab": {
          "base_uri": "https://localhost:8080/"
        },
        "id": "NPhfFtiRk-bY",
        "outputId": "0f7fdcf8-3685-445d-d277-ccb65b1693f5"
      }
    },
    {
      "cell_type": "markdown",
      "source": [
        "# Note: the model fitted on CPU"
      ],
      "metadata": {
        "id": "D3RR3sd93d9U"
      }
    },
    {
      "cell_type": "code",
      "execution_count": null,
      "source": [],
      "outputs": [],
      "metadata": {
        "id": "CAmfWwqXL0hi"
      }
    }
  ]
}